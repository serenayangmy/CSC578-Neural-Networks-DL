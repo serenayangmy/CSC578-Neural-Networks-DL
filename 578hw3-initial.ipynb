{
 "cells": [
  {
   "cell_type": "markdown",
   "metadata": {},
   "source": [
    "## 578hw3-initial.ipynb\n",
    "#### Run all cells in this file with the original \"NN578_network.py\" to ensure the code runs on your platform."
   ]
  },
  {
   "cell_type": "code",
   "execution_count": 2,
   "metadata": {},
   "outputs": [],
   "source": [
    "import NN578_network as network\n",
    "import numpy as np"
   ]
  },
  {
   "cell_type": "code",
   "execution_count": 3,
   "metadata": {},
   "outputs": [
    {
     "name": "stderr",
     "output_type": "stream",
     "text": [
      "/Users/serenayang/Desktop/csc578 - Neural Networks & DL/hw3/NN578_network.py:202: VisibleDeprecationWarning: Creating an ndarray from ragged nested sequences (which is a list-or-tuple of lists-or-tuples-or ndarrays with different lengths or shapes) is deprecated. If you meant to do this, you must specify 'dtype=object' when creating the ndarray\n",
      "  data = np.array(\n"
     ]
    }
   ],
   "source": [
    "# Load the dataset (already in the 'one-hot-vector' format for the target)\n",
    "# Call the function to load the data.\n",
    "iris_data = network.my_load_csv('iris.csv', 4, 3)"
   ]
  },
  {
   "cell_type": "code",
   "execution_count": 4,
   "metadata": {},
   "outputs": [
    {
     "name": "stdout",
     "output_type": "stream",
     "text": [
      "Epoch 0 complete\n",
      "Epoch 1 complete\n"
     ]
    }
   ],
   "source": [
    "# Create a network from the saved network\n",
    "net1 = network.load_network(\"iris-423.dat\")\n",
    "\n",
    "# Train the network for 2 epochs, with minibatch size 10, eta=0.7 and no testset.\n",
    "# Note the original function SGD does not return anything, so no attempt is made\n",
    "# to receive the returned value. \n",
    "net1.SGD(iris_data, 2, 10, 0.7)"
   ]
  },
  {
   "cell_type": "code",
   "execution_count": 5,
   "metadata": {},
   "outputs": [
    {
     "name": "stdout",
     "output_type": "stream",
     "text": [
      "Epoch 0: 50 / 150\n",
      "Epoch 1: 50 / 150\n"
     ]
    }
   ],
   "source": [
    "# re-load the saved network and run it again this time with the test data \n",
    "# (though the same dataset, just to check).\n",
    "net2 = network.load_network(\"iris-423.dat\")\n",
    "net2.SGD(iris_data, 2, 10, 0.7, iris_data)"
   ]
  },
  {
   "cell_type": "code",
   "execution_count": null,
   "metadata": {},
   "outputs": [],
   "source": []
  },
  {
   "cell_type": "code",
   "execution_count": null,
   "metadata": {},
   "outputs": [],
   "source": []
  }
 ],
 "metadata": {
  "kernelspec": {
   "display_name": "Python 3",
   "language": "python",
   "name": "python3"
  },
  "language_info": {
   "codemirror_mode": {
    "name": "ipython",
    "version": 3
   },
   "file_extension": ".py",
   "mimetype": "text/x-python",
   "name": "python",
   "nbconvert_exporter": "python",
   "pygments_lexer": "ipython3",
   "version": "3.8.5"
  }
 },
 "nbformat": 4,
 "nbformat_minor": 4
}

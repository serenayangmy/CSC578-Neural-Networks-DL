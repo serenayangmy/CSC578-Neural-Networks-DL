{
 "cells": [
  {
   "cell_type": "code",
   "execution_count": 1,
   "metadata": {},
   "outputs": [],
   "source": [
    "import NN578_network as network\n",
    "import numpy as np"
   ]
  },
  {
   "cell_type": "code",
   "execution_count": 2,
   "metadata": {},
   "outputs": [
    {
     "name": "stdout",
     "output_type": "stream",
     "text": [
      "[Epoch 0] Training: MSE=0.26673129, CE=1.61690061, LL=0.45930834, Correct: 1/1, Acc: 1.00000000\n",
      "          Test:     MSE=0.32440028, CE=1.85581862, LL=0.58712192, Correct: 0/1, Acc: 0.00000000\n",
      "[[[1, 1.0, 0.26673128660052947, 1.6169006088912665, 0.4593083419698332]], [[0, 0.0, 0.3244002758397572, 1.855818621521176, 0.5871219174966811]]]\n",
      "\n",
      "[Epoch 0] Training: MSE=0.21078666, CE=1.38020720, LL=0.39958448, Correct: 1/1, Acc: 1.00000000\n",
      "[[[1, 1.0, 0.2107866577006649, 1.3802072032795016, 0.39958447879106]], [[]]]\n"
     ]
    }
   ],
   "source": [
    "net4 = network.load_network(\"iris-423.dat\")\n",
    "\n",
    "# Create two data instances on the fly\n",
    "inst1 = (np.array([5.7, 3, 4.2, 1.2]), np.array([0., 1., 0.]))\n",
    "x1 = np.reshape(inst1[0], (4, 1))\n",
    "y1 = np.reshape(inst1[1], (3, 1))\n",
    "sample1 = [(x1, y1)]\n",
    "inst2 = (np.array([4.8, 3.4, 1.6, 0.2]), np.array([1., 0., 0.]))\n",
    "x2 = np.reshape(inst2[0], (4, 1))\n",
    "y2 = np.reshape(inst2[1], (3, 1))\n",
    "sample2 = [(x2, y2)]\n",
    "\n",
    "# Call SGD with one instance for training and another for testing,\n",
    "#  for one epoch, with batch_size=1, and eta=1.0. \n",
    "# First with both training and test instances.\n",
    "results10 = net4.SGD(sample1, 1, 1, 1.0, sample2)\n",
    "print (results10)\n",
    "print ()\n",
    "# Then with just training instance\n",
    "results11 = net4.SGD(sample1, 1, 1, 1.0)\n",
    "print (results11)"
   ]
  },
  {
   "cell_type": "code",
   "execution_count": null,
   "metadata": {},
   "outputs": [],
   "source": []
  }
 ],
 "metadata": {
  "kernelspec": {
   "display_name": "Python",
   "language": "python",
   "name": "conda-env-python-py"
  },
  "language_info": {
   "codemirror_mode": {
    "name": "ipython",
    "version": 3
   },
   "file_extension": ".py",
   "mimetype": "text/x-python",
   "name": "python",
   "nbconvert_exporter": "python",
   "pygments_lexer": "ipython3",
   "version": "3.6.10"
  }
 },
 "nbformat": 4,
 "nbformat_minor": 4
}

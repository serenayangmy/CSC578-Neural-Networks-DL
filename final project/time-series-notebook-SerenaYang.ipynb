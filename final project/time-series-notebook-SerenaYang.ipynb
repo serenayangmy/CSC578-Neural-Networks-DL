{
 "cells": [
  {
   "cell_type": "markdown",
   "metadata": {},
   "source": [
    "### CSC 578 Final Project\n",
    "##### Student: Serena Yang"
   ]
  },
  {
   "cell_type": "markdown",
   "metadata": {},
   "source": [
    "### Problem\n",
    "The goal of this project is to predict from a 5-hour input window, only the traffic volume for 2 hours past the end of the window. \n",
    "\n",
    "### Source\n",
    "**[UCI Machine Learning Repository](https://archive.ics.uci.edu/ml/datasets/Metro+Interstate+Traffic+Volume)**\n",
    "\n",
    "For this project, the dataset is a subset of the Metro Interstate traffic volumn which is locate in Minnesota, between Minneapolis and St Paul, from the UCI repository, includes 40+ thousand rows and 9 features. "
   ]
  },
  {
   "cell_type": "markdown",
   "metadata": {},
   "source": [
    "### Packages"
   ]
  },
  {
   "cell_type": "code",
   "execution_count": 1,
   "metadata": {},
   "outputs": [],
   "source": [
    "#These packages will be used for this project\n",
    "import pandas as pd\n",
    "import numpy as np\n",
    "import matplotlib.pyplot as plt\n",
    "import seaborn as sns\n",
    "import tensorflow as tf\n",
    "import IPython\n",
    "import IPython.display\n",
    "\n",
    "from sklearn.preprocessing import LabelEncoder\n",
    "from sklearn.preprocessing import MinMaxScaler\n",
    "from tensorflow.keras import layers, models, optimizers\n",
    "\n",
    "import warnings\n",
    "warnings.filterwarnings(\"ignore\")"
   ]
  },
  {
   "cell_type": "markdown",
   "metadata": {},
   "source": [
    "### Data Preparation"
   ]
  },
  {
   "cell_type": "code",
   "execution_count": 2,
   "metadata": {},
   "outputs": [],
   "source": [
    "path = '/Users/serenayang/Desktop/csc578 - Neural Networks & DL/final project/'"
   ]
  },
  {
   "cell_type": "code",
   "execution_count": 3,
   "metadata": {},
   "outputs": [],
   "source": [
    "df = pd.read_csv(path + 'Metro_Interstate_Traffic_Volume.csv')"
   ]
  },
  {
   "cell_type": "code",
   "execution_count": 4,
   "metadata": {},
   "outputs": [
    {
     "data": {
      "text/html": [
       "<div>\n",
       "<style scoped>\n",
       "    .dataframe tbody tr th:only-of-type {\n",
       "        vertical-align: middle;\n",
       "    }\n",
       "\n",
       "    .dataframe tbody tr th {\n",
       "        vertical-align: top;\n",
       "    }\n",
       "\n",
       "    .dataframe thead th {\n",
       "        text-align: right;\n",
       "    }\n",
       "</style>\n",
       "<table border=\"1\" class=\"dataframe\">\n",
       "  <thead>\n",
       "    <tr style=\"text-align: right;\">\n",
       "      <th></th>\n",
       "      <th>holiday</th>\n",
       "      <th>temp</th>\n",
       "      <th>rain_1h</th>\n",
       "      <th>snow_1h</th>\n",
       "      <th>clouds_all</th>\n",
       "      <th>weather_main</th>\n",
       "      <th>weather_description</th>\n",
       "      <th>date_time</th>\n",
       "      <th>traffic_volume</th>\n",
       "    </tr>\n",
       "  </thead>\n",
       "  <tbody>\n",
       "    <tr>\n",
       "      <th>0</th>\n",
       "      <td>None</td>\n",
       "      <td>288.28</td>\n",
       "      <td>0.0</td>\n",
       "      <td>0.0</td>\n",
       "      <td>40</td>\n",
       "      <td>Clouds</td>\n",
       "      <td>scattered clouds</td>\n",
       "      <td>2012-10-02 09:00:00</td>\n",
       "      <td>5545</td>\n",
       "    </tr>\n",
       "    <tr>\n",
       "      <th>1</th>\n",
       "      <td>None</td>\n",
       "      <td>289.36</td>\n",
       "      <td>0.0</td>\n",
       "      <td>0.0</td>\n",
       "      <td>75</td>\n",
       "      <td>Clouds</td>\n",
       "      <td>broken clouds</td>\n",
       "      <td>2012-10-02 10:00:00</td>\n",
       "      <td>4516</td>\n",
       "    </tr>\n",
       "    <tr>\n",
       "      <th>2</th>\n",
       "      <td>None</td>\n",
       "      <td>289.58</td>\n",
       "      <td>0.0</td>\n",
       "      <td>0.0</td>\n",
       "      <td>90</td>\n",
       "      <td>Clouds</td>\n",
       "      <td>overcast clouds</td>\n",
       "      <td>2012-10-02 11:00:00</td>\n",
       "      <td>4767</td>\n",
       "    </tr>\n",
       "    <tr>\n",
       "      <th>3</th>\n",
       "      <td>None</td>\n",
       "      <td>290.13</td>\n",
       "      <td>0.0</td>\n",
       "      <td>0.0</td>\n",
       "      <td>90</td>\n",
       "      <td>Clouds</td>\n",
       "      <td>overcast clouds</td>\n",
       "      <td>2012-10-02 12:00:00</td>\n",
       "      <td>5026</td>\n",
       "    </tr>\n",
       "    <tr>\n",
       "      <th>4</th>\n",
       "      <td>None</td>\n",
       "      <td>291.14</td>\n",
       "      <td>0.0</td>\n",
       "      <td>0.0</td>\n",
       "      <td>75</td>\n",
       "      <td>Clouds</td>\n",
       "      <td>broken clouds</td>\n",
       "      <td>2012-10-02 13:00:00</td>\n",
       "      <td>4918</td>\n",
       "    </tr>\n",
       "  </tbody>\n",
       "</table>\n",
       "</div>"
      ],
      "text/plain": [
       "  holiday    temp  rain_1h  snow_1h  clouds_all weather_main  \\\n",
       "0    None  288.28      0.0      0.0          40       Clouds   \n",
       "1    None  289.36      0.0      0.0          75       Clouds   \n",
       "2    None  289.58      0.0      0.0          90       Clouds   \n",
       "3    None  290.13      0.0      0.0          90       Clouds   \n",
       "4    None  291.14      0.0      0.0          75       Clouds   \n",
       "\n",
       "  weather_description            date_time  traffic_volume  \n",
       "0    scattered clouds  2012-10-02 09:00:00            5545  \n",
       "1       broken clouds  2012-10-02 10:00:00            4516  \n",
       "2     overcast clouds  2012-10-02 11:00:00            4767  \n",
       "3     overcast clouds  2012-10-02 12:00:00            5026  \n",
       "4       broken clouds  2012-10-02 13:00:00            4918  "
      ]
     },
     "execution_count": 4,
     "metadata": {},
     "output_type": "execute_result"
    }
   ],
   "source": [
    "#There are 9 features for this dataset:\n",
    "# holiday: string (None or name of holiday)\n",
    "# temp: in degrees kelvin\n",
    "# rain_1h: in mm for the last hour\n",
    "# snow_1h: in mm for the last hour\n",
    "# clouds: percent\n",
    "# weather_main: short descriptive text\n",
    "# weather_description: longer descriptive text\n",
    "# date_time: in M/D/Y H:m:s AM/PM format\n",
    "# traffic_volume: # of cars in the last hour\n",
    "    \n",
    "df.head()"
   ]
  },
  {
   "cell_type": "code",
   "execution_count": 5,
   "metadata": {},
   "outputs": [],
   "source": [
    "#drop the date_time from the df table and save as an new variable\n",
    "date_time = pd.to_datetime(df.pop('date_time'), format='%Y.%m.%d %H:%M:%S')"
   ]
  },
  {
   "cell_type": "code",
   "execution_count": 6,
   "metadata": {},
   "outputs": [
    {
     "data": {
      "text/plain": [
       "0       2012-10-02 09:00:00\n",
       "1       2012-10-02 10:00:00\n",
       "2       2012-10-02 11:00:00\n",
       "3       2012-10-02 12:00:00\n",
       "4       2012-10-02 13:00:00\n",
       "                ...        \n",
       "48199   2018-09-30 19:00:00\n",
       "48200   2018-09-30 20:00:00\n",
       "48201   2018-09-30 21:00:00\n",
       "48202   2018-09-30 22:00:00\n",
       "48203   2018-09-30 23:00:00\n",
       "Name: date_time, Length: 48204, dtype: datetime64[ns]"
      ]
     },
     "execution_count": 6,
     "metadata": {},
     "output_type": "execute_result"
    }
   ],
   "source": [
    "date_time"
   ]
  },
  {
   "cell_type": "code",
   "execution_count": 7,
   "metadata": {},
   "outputs": [
    {
     "data": {
      "text/html": [
       "<div>\n",
       "<style scoped>\n",
       "    .dataframe tbody tr th:only-of-type {\n",
       "        vertical-align: middle;\n",
       "    }\n",
       "\n",
       "    .dataframe tbody tr th {\n",
       "        vertical-align: top;\n",
       "    }\n",
       "\n",
       "    .dataframe thead th {\n",
       "        text-align: right;\n",
       "    }\n",
       "</style>\n",
       "<table border=\"1\" class=\"dataframe\">\n",
       "  <thead>\n",
       "    <tr style=\"text-align: right;\">\n",
       "      <th></th>\n",
       "      <th>holiday</th>\n",
       "      <th>temp</th>\n",
       "      <th>rain_1h</th>\n",
       "      <th>snow_1h</th>\n",
       "      <th>clouds_all</th>\n",
       "      <th>weather_main</th>\n",
       "      <th>weather_description</th>\n",
       "      <th>traffic_volume</th>\n",
       "    </tr>\n",
       "  </thead>\n",
       "  <tbody>\n",
       "    <tr>\n",
       "      <th>0</th>\n",
       "      <td>None</td>\n",
       "      <td>288.28</td>\n",
       "      <td>0.0</td>\n",
       "      <td>0.0</td>\n",
       "      <td>40</td>\n",
       "      <td>Clouds</td>\n",
       "      <td>scattered clouds</td>\n",
       "      <td>5545</td>\n",
       "    </tr>\n",
       "    <tr>\n",
       "      <th>1</th>\n",
       "      <td>None</td>\n",
       "      <td>289.36</td>\n",
       "      <td>0.0</td>\n",
       "      <td>0.0</td>\n",
       "      <td>75</td>\n",
       "      <td>Clouds</td>\n",
       "      <td>broken clouds</td>\n",
       "      <td>4516</td>\n",
       "    </tr>\n",
       "    <tr>\n",
       "      <th>2</th>\n",
       "      <td>None</td>\n",
       "      <td>289.58</td>\n",
       "      <td>0.0</td>\n",
       "      <td>0.0</td>\n",
       "      <td>90</td>\n",
       "      <td>Clouds</td>\n",
       "      <td>overcast clouds</td>\n",
       "      <td>4767</td>\n",
       "    </tr>\n",
       "    <tr>\n",
       "      <th>3</th>\n",
       "      <td>None</td>\n",
       "      <td>290.13</td>\n",
       "      <td>0.0</td>\n",
       "      <td>0.0</td>\n",
       "      <td>90</td>\n",
       "      <td>Clouds</td>\n",
       "      <td>overcast clouds</td>\n",
       "      <td>5026</td>\n",
       "    </tr>\n",
       "    <tr>\n",
       "      <th>4</th>\n",
       "      <td>None</td>\n",
       "      <td>291.14</td>\n",
       "      <td>0.0</td>\n",
       "      <td>0.0</td>\n",
       "      <td>75</td>\n",
       "      <td>Clouds</td>\n",
       "      <td>broken clouds</td>\n",
       "      <td>4918</td>\n",
       "    </tr>\n",
       "  </tbody>\n",
       "</table>\n",
       "</div>"
      ],
      "text/plain": [
       "  holiday    temp  rain_1h  snow_1h  clouds_all weather_main  \\\n",
       "0    None  288.28      0.0      0.0          40       Clouds   \n",
       "1    None  289.36      0.0      0.0          75       Clouds   \n",
       "2    None  289.58      0.0      0.0          90       Clouds   \n",
       "3    None  290.13      0.0      0.0          90       Clouds   \n",
       "4    None  291.14      0.0      0.0          75       Clouds   \n",
       "\n",
       "  weather_description  traffic_volume  \n",
       "0    scattered clouds            5545  \n",
       "1       broken clouds            4516  \n",
       "2     overcast clouds            4767  \n",
       "3     overcast clouds            5026  \n",
       "4       broken clouds            4918  "
      ]
     },
     "execution_count": 7,
     "metadata": {},
     "output_type": "execute_result"
    }
   ],
   "source": [
    "df.head()"
   ]
  },
  {
   "cell_type": "markdown",
   "metadata": {},
   "source": [
    "### EDA"
   ]
  },
  {
   "cell_type": "code",
   "execution_count": 8,
   "metadata": {},
   "outputs": [
    {
     "data": {
      "text/plain": [
       "(48204, 8)"
      ]
     },
     "execution_count": 8,
     "metadata": {},
     "output_type": "execute_result"
    }
   ],
   "source": [
    "#current dataset includes 48204 rows and 8 features(already drop 'date_time')\n",
    "df.shape"
   ]
  },
  {
   "cell_type": "code",
   "execution_count": 9,
   "metadata": {},
   "outputs": [
    {
     "data": {
      "text/plain": [
       "False"
      ]
     },
     "execution_count": 9,
     "metadata": {},
     "output_type": "execute_result"
    }
   ],
   "source": [
    "#there is no missing data\n",
    "df.isnull().values.any()"
   ]
  },
  {
   "cell_type": "code",
   "execution_count": 10,
   "metadata": {},
   "outputs": [
    {
     "data": {
      "text/plain": [
       "holiday                 object\n",
       "temp                   float64\n",
       "rain_1h                float64\n",
       "snow_1h                float64\n",
       "clouds_all               int64\n",
       "weather_main            object\n",
       "weather_description     object\n",
       "traffic_volume           int64\n",
       "dtype: object"
      ]
     },
     "execution_count": 10,
     "metadata": {},
     "output_type": "execute_result"
    }
   ],
   "source": [
    "# 5 numerical variables and 4 categorical(string) variables\n",
    "df.dtypes"
   ]
  },
  {
   "cell_type": "markdown",
   "metadata": {},
   "source": [
    "#### Categorical variables\n",
    "Lets start with categorical variables:"
   ]
  },
  {
   "cell_type": "code",
   "execution_count": 11,
   "metadata": {},
   "outputs": [
    {
     "data": {
      "text/plain": [
       "array(['None', 'Columbus Day', 'Veterans Day', 'Thanksgiving Day',\n",
       "       'Christmas Day', 'New Years Day', 'Washingtons Birthday',\n",
       "       'Memorial Day', 'Independence Day', 'State Fair', 'Labor Day',\n",
       "       'Martin Luther King Jr Day'], dtype=object)"
      ]
     },
     "execution_count": 11,
     "metadata": {},
     "output_type": "execute_result"
    }
   ],
   "source": [
    "df['holiday'].unique()"
   ]
  },
  {
   "cell_type": "code",
   "execution_count": 12,
   "metadata": {},
   "outputs": [
    {
     "data": {
      "image/png": "[encoded data removed]",
      "text/plain": [
       "<Figure size 720x504 with 1 Axes>"
      ]
     },
     "metadata": {
      "needs_background": "light"
     },
     "output_type": "display_data"
    }
   ],
   "source": [
    "plt.figure(figsize = (10,7))\n",
    "sns.barplot(data=df, x=list(df['holiday'].value_counts().index)[1::], y=list(df['holiday'].value_counts())[1::])\n",
    "#sns.set_style(\"whitegrid\")\n",
    "plt.xticks(rotation = 90)\n",
    "plt.xlabel('holidays')\n",
    "plt.title('times of holidays included', fontsize = 16)\n",
    "plt.show() "
   ]
  },
  {
   "cell_type": "markdown",
   "metadata": {},
   "source": [
    "for holiday column, there are 12 different values.   \n",
    "##### In the dataset, expect 'None' value：\n",
    "'Labor Day' shows 7 times;  \n",
    "'Martin Luther King Jr Day','Christmas Day','Thanksgiving Day','New Years Day' shows 6 times;  \n",
    "'State Fair', 'Memorial Day', 'Indeoendence Day', 'Columbus Day', 'Washingtons Birthday','Veterans Day' shows 5 times.  "
   ]
  },
  {
   "cell_type": "code",
   "execution_count": 13,
   "metadata": {},
   "outputs": [
    {
     "data": {
      "text/plain": [
       "array(['Clouds', 'Clear', 'Rain', 'Drizzle', 'Mist', 'Haze', 'Fog',\n",
       "       'Thunderstorm', 'Snow', 'Squall', 'Smoke'], dtype=object)"
      ]
     },
     "execution_count": 13,
     "metadata": {},
     "output_type": "execute_result"
    }
   ],
   "source": [
    "df['weather_main'].unique()"
   ]
  },
  {
   "cell_type": "code",
   "execution_count": 14,
   "metadata": {},
   "outputs": [
    {
     "data": {
      "image/png": "[encoded data removed]",
      "text/plain": [
       "<Figure size 720x504 with 1 Axes>"
      ]
     },
     "metadata": {
      "needs_background": "light"
     },
     "output_type": "display_data"
    }
   ],
   "source": [
    "plt.figure(figsize = (10,7))\n",
    "sns.barplot(data=df, x=list(df['weather_main'].value_counts().index), y=list(df['weather_main'].value_counts()))\n",
    "plt.xticks(rotation = 90)\n",
    "plt.xlabel('weather type')\n",
    "plt.title('how many times of different weather type shown', fontsize = 16)\n",
    "plt.show()\n"
   ]
  },
  {
   "cell_type": "markdown",
   "metadata": {},
   "source": [
    "There are 11 unique values in 'weather_main' feature. Most days are 'Clouds' and 'Clear,' and 'Smoke' and 'Squall' barely happen."
   ]
  },
  {
   "cell_type": "code",
   "execution_count": 15,
   "metadata": {},
   "outputs": [
    {
     "data": {
      "text/plain": [
       "array(['scattered clouds', 'broken clouds', 'overcast clouds',\n",
       "       'sky is clear', 'few clouds', 'light rain',\n",
       "       'light intensity drizzle', 'mist', 'haze', 'fog',\n",
       "       'proximity shower rain', 'drizzle', 'moderate rain',\n",
       "       'heavy intensity rain', 'proximity thunderstorm',\n",
       "       'thunderstorm with light rain', 'proximity thunderstorm with rain',\n",
       "       'heavy snow', 'heavy intensity drizzle', 'snow',\n",
       "       'thunderstorm with heavy rain', 'freezing rain', 'shower snow',\n",
       "       'light rain and snow', 'light intensity shower rain', 'SQUALLS',\n",
       "       'thunderstorm with rain', 'proximity thunderstorm with drizzle',\n",
       "       'thunderstorm', 'Sky is Clear', 'very heavy rain',\n",
       "       'thunderstorm with light drizzle', 'light snow',\n",
       "       'thunderstorm with drizzle', 'smoke', 'shower drizzle',\n",
       "       'light shower snow', 'sleet'], dtype=object)"
      ]
     },
     "execution_count": 15,
     "metadata": {},
     "output_type": "execute_result"
    }
   ],
   "source": [
    "df['weather_description'].unique()"
   ]
  },
  {
   "cell_type": "code",
   "execution_count": 16,
   "metadata": {},
   "outputs": [
    {
     "data": {
      "image/png": "[encoded data removed]",
      "text/plain": [
       "<Figure size 720x504 with 1 Axes>"
      ]
     },
     "metadata": {
      "needs_background": "light"
     },
     "output_type": "display_data"
    }
   ],
   "source": [
    "plt.figure(figsize = (10,7))\n",
    "sns.barplot(data=df, x=list(df['weather_description'].value_counts().index), y=list(df['weather_description'].value_counts()))\n",
    "plt.xticks(rotation = 90)\n",
    "plt.xlabel('weather name')\n",
    "plt.title('how many times of different weather name shown', fontsize = 16)\n",
    "plt.show()"
   ]
  },
  {
   "cell_type": "markdown",
   "metadata": {},
   "source": [
    "There are 38 unique values in 'weather_description' feature. Most weather is 'sky is clear,' and a lot of weather descriptions barely happened. "
   ]
  },
  {
   "cell_type": "markdown",
   "metadata": {},
   "source": [
    "#### Numerical variables"
   ]
  },
  {
   "cell_type": "code",
   "execution_count": 17,
   "metadata": {},
   "outputs": [
    {
     "data": {
      "image/png": "[encoded data removed]",
      "text/plain": [
       "<Figure size 432x288 with 5 Axes>"
      ]
     },
     "metadata": {
      "needs_background": "light"
     },
     "output_type": "display_data"
    },
    {
     "data": {
      "image/png": "[encoded data removed]",
      "text/plain": [
       "<Figure size 432x288 with 5 Axes>"
      ]
     },
     "metadata": {
      "needs_background": "light"
     },
     "output_type": "display_data"
    },
    {
     "data": {
      "image/png": "[encoded data removed]",
      "text/plain": [
       "<Figure size 432x288 with 5 Axes>"
      ]
     },
     "metadata": {
      "needs_background": "light"
     },
     "output_type": "display_data"
    }
   ],
   "source": [
    "#From TF Tutorial\n",
    "plot_cols = ['temp', 'rain_1h', 'snow_1h', 'clouds_all', 'traffic_volume']\n",
    "plot_features = df[plot_cols]\n",
    "plot_features.index = date_time\n",
    "_ = plot_features.plot(subplots=True)\n",
    "\n",
    "plot_features = df[plot_cols][:900]\n",
    "plot_features.index = date_time[:900]\n",
    "_ = plot_features.plot(subplots=True)\n",
    "\n",
    "plot_features = df[plot_cols][:100]\n",
    "plot_features.index = date_time[:100]\n",
    "_ = plot_features.plot(subplots=True)"
   ]
  },
  {
   "cell_type": "markdown",
   "metadata": {},
   "source": [
    "There are five cycles from 2012 to 2018 and a gap from 2015 to 2016. The temperature is overall decreasing. For the rain_1h and snow_1h have barely happened."
   ]
  },
  {
   "cell_type": "code",
   "execution_count": 18,
   "metadata": {},
   "outputs": [
    {
     "data": {
      "text/html": [
       "<div>\n",
       "<style scoped>\n",
       "    .dataframe tbody tr th:only-of-type {\n",
       "        vertical-align: middle;\n",
       "    }\n",
       "\n",
       "    .dataframe tbody tr th {\n",
       "        vertical-align: top;\n",
       "    }\n",
       "\n",
       "    .dataframe thead th {\n",
       "        text-align: right;\n",
       "    }\n",
       "</style>\n",
       "<table border=\"1\" class=\"dataframe\">\n",
       "  <thead>\n",
       "    <tr style=\"text-align: right;\">\n",
       "      <th></th>\n",
       "      <th>count</th>\n",
       "      <th>mean</th>\n",
       "      <th>std</th>\n",
       "      <th>min</th>\n",
       "      <th>25%</th>\n",
       "      <th>50%</th>\n",
       "      <th>75%</th>\n",
       "      <th>max</th>\n",
       "    </tr>\n",
       "  </thead>\n",
       "  <tbody>\n",
       "    <tr>\n",
       "      <th>temp</th>\n",
       "      <td>48204.0</td>\n",
       "      <td>281.205870</td>\n",
       "      <td>13.338232</td>\n",
       "      <td>0.0</td>\n",
       "      <td>272.16</td>\n",
       "      <td>282.45</td>\n",
       "      <td>291.806</td>\n",
       "      <td>310.07</td>\n",
       "    </tr>\n",
       "    <tr>\n",
       "      <th>rain_1h</th>\n",
       "      <td>48204.0</td>\n",
       "      <td>0.334264</td>\n",
       "      <td>44.789133</td>\n",
       "      <td>0.0</td>\n",
       "      <td>0.00</td>\n",
       "      <td>0.00</td>\n",
       "      <td>0.000</td>\n",
       "      <td>9831.30</td>\n",
       "    </tr>\n",
       "    <tr>\n",
       "      <th>snow_1h</th>\n",
       "      <td>48204.0</td>\n",
       "      <td>0.000222</td>\n",
       "      <td>0.008168</td>\n",
       "      <td>0.0</td>\n",
       "      <td>0.00</td>\n",
       "      <td>0.00</td>\n",
       "      <td>0.000</td>\n",
       "      <td>0.51</td>\n",
       "    </tr>\n",
       "    <tr>\n",
       "      <th>clouds_all</th>\n",
       "      <td>48204.0</td>\n",
       "      <td>49.362231</td>\n",
       "      <td>39.015750</td>\n",
       "      <td>0.0</td>\n",
       "      <td>1.00</td>\n",
       "      <td>64.00</td>\n",
       "      <td>90.000</td>\n",
       "      <td>100.00</td>\n",
       "    </tr>\n",
       "    <tr>\n",
       "      <th>traffic_volume</th>\n",
       "      <td>48204.0</td>\n",
       "      <td>3259.818355</td>\n",
       "      <td>1986.860670</td>\n",
       "      <td>0.0</td>\n",
       "      <td>1193.00</td>\n",
       "      <td>3380.00</td>\n",
       "      <td>4933.000</td>\n",
       "      <td>7280.00</td>\n",
       "    </tr>\n",
       "  </tbody>\n",
       "</table>\n",
       "</div>"
      ],
      "text/plain": [
       "                  count         mean          std  min      25%      50%  \\\n",
       "temp            48204.0   281.205870    13.338232  0.0   272.16   282.45   \n",
       "rain_1h         48204.0     0.334264    44.789133  0.0     0.00     0.00   \n",
       "snow_1h         48204.0     0.000222     0.008168  0.0     0.00     0.00   \n",
       "clouds_all      48204.0    49.362231    39.015750  0.0     1.00    64.00   \n",
       "traffic_volume  48204.0  3259.818355  1986.860670  0.0  1193.00  3380.00   \n",
       "\n",
       "                     75%      max  \n",
       "temp             291.806   310.07  \n",
       "rain_1h            0.000  9831.30  \n",
       "snow_1h            0.000     0.51  \n",
       "clouds_all        90.000   100.00  \n",
       "traffic_volume  4933.000  7280.00  "
      ]
     },
     "execution_count": 18,
     "metadata": {},
     "output_type": "execute_result"
    }
   ],
   "source": [
    "# statistics of the numerical dataset\n",
    "df.describe().transpose()"
   ]
  },
  {
   "cell_type": "markdown",
   "metadata": {},
   "source": [
    "#### Time\n",
    "#From TF Tutorial"
   ]
  },
  {
   "cell_type": "code",
   "execution_count": 19,
   "metadata": {
    "scrolled": true
   },
   "outputs": [],
   "source": [
    "timestamp_s = date_time.map(pd.Timestamp.timestamp)"
   ]
  },
  {
   "cell_type": "code",
   "execution_count": 20,
   "metadata": {},
   "outputs": [],
   "source": [
    "# Lets convert the Date Time to seconds, daily and yearly periodicity.\n",
    "# get usable signals by using sine and cos transformas to clear \"Time of day\" and \"Time of year\" signals.\n",
    "day = 24*60*60\n",
    "year = (365.2425)*day\n",
    "\n",
    "df['Day sin'] = np.sin(timestamp_s * (2 * np.pi / day))\n",
    "df['Day cos'] = np.cos(timestamp_s * (2 * np.pi / day))\n",
    "df['Year sin'] = np.sin(timestamp_s * (2 * np.pi / year))\n",
    "df['Year cos'] = np.cos(timestamp_s * (2 * np.pi / year))"
   ]
  },
  {
   "cell_type": "code",
   "execution_count": 21,
   "metadata": {},
   "outputs": [
    {
     "data": {
      "text/plain": [
       "Text(0.5, 1.0, 'Time of day signal')"
      ]
     },
     "execution_count": 21,
     "metadata": {},
     "output_type": "execute_result"
    },
    {
     "data": {
      "image/png": "[encoded data removed]",
      "text/plain": [
       "<Figure size 432x288 with 1 Axes>"
      ]
     },
     "metadata": {
      "needs_background": "light"
     },
     "output_type": "display_data"
    }
   ],
   "source": [
    "plt.plot(np.array(df['Day sin'])[:25])\n",
    "plt.plot(np.array(df['Day cos'])[:25])\n",
    "plt.xlabel('Time [h]')\n",
    "plt.title('Time of day signal')"
   ]
  },
  {
   "cell_type": "markdown",
   "metadata": {},
   "source": [
    "From the frequency features, we can know ahead of time which frequencies were important."
   ]
  },
  {
   "cell_type": "code",
   "execution_count": 22,
   "metadata": {},
   "outputs": [
    {
     "data": {
      "text/html": [
       "<div>\n",
       "<style scoped>\n",
       "    .dataframe tbody tr th:only-of-type {\n",
       "        vertical-align: middle;\n",
       "    }\n",
       "\n",
       "    .dataframe tbody tr th {\n",
       "        vertical-align: top;\n",
       "    }\n",
       "\n",
       "    .dataframe thead th {\n",
       "        text-align: right;\n",
       "    }\n",
       "</style>\n",
       "<table border=\"1\" class=\"dataframe\">\n",
       "  <thead>\n",
       "    <tr style=\"text-align: right;\">\n",
       "      <th></th>\n",
       "      <th>holiday</th>\n",
       "      <th>temp</th>\n",
       "      <th>rain_1h</th>\n",
       "      <th>snow_1h</th>\n",
       "      <th>clouds_all</th>\n",
       "      <th>weather_main</th>\n",
       "      <th>weather_description</th>\n",
       "      <th>traffic_volume</th>\n",
       "      <th>Day sin</th>\n",
       "      <th>Day cos</th>\n",
       "      <th>Year sin</th>\n",
       "      <th>Year cos</th>\n",
       "    </tr>\n",
       "  </thead>\n",
       "  <tbody>\n",
       "    <tr>\n",
       "      <th>0</th>\n",
       "      <td>None</td>\n",
       "      <td>288.28</td>\n",
       "      <td>0.0</td>\n",
       "      <td>0.0</td>\n",
       "      <td>40</td>\n",
       "      <td>Clouds</td>\n",
       "      <td>scattered clouds</td>\n",
       "      <td>5545</td>\n",
       "      <td>7.071068e-01</td>\n",
       "      <td>-0.707107</td>\n",
       "      <td>-0.999766</td>\n",
       "      <td>0.021642</td>\n",
       "    </tr>\n",
       "    <tr>\n",
       "      <th>1</th>\n",
       "      <td>None</td>\n",
       "      <td>289.36</td>\n",
       "      <td>0.0</td>\n",
       "      <td>0.0</td>\n",
       "      <td>75</td>\n",
       "      <td>Clouds</td>\n",
       "      <td>broken clouds</td>\n",
       "      <td>4516</td>\n",
       "      <td>5.000000e-01</td>\n",
       "      <td>-0.866025</td>\n",
       "      <td>-0.999750</td>\n",
       "      <td>0.022358</td>\n",
       "    </tr>\n",
       "    <tr>\n",
       "      <th>2</th>\n",
       "      <td>None</td>\n",
       "      <td>289.58</td>\n",
       "      <td>0.0</td>\n",
       "      <td>0.0</td>\n",
       "      <td>90</td>\n",
       "      <td>Clouds</td>\n",
       "      <td>overcast clouds</td>\n",
       "      <td>4767</td>\n",
       "      <td>2.588190e-01</td>\n",
       "      <td>-0.965926</td>\n",
       "      <td>-0.999734</td>\n",
       "      <td>0.023075</td>\n",
       "    </tr>\n",
       "    <tr>\n",
       "      <th>3</th>\n",
       "      <td>None</td>\n",
       "      <td>290.13</td>\n",
       "      <td>0.0</td>\n",
       "      <td>0.0</td>\n",
       "      <td>90</td>\n",
       "      <td>Clouds</td>\n",
       "      <td>overcast clouds</td>\n",
       "      <td>5026</td>\n",
       "      <td>1.143105e-11</td>\n",
       "      <td>-1.000000</td>\n",
       "      <td>-0.999717</td>\n",
       "      <td>0.023791</td>\n",
       "    </tr>\n",
       "    <tr>\n",
       "      <th>4</th>\n",
       "      <td>None</td>\n",
       "      <td>291.14</td>\n",
       "      <td>0.0</td>\n",
       "      <td>0.0</td>\n",
       "      <td>75</td>\n",
       "      <td>Clouds</td>\n",
       "      <td>broken clouds</td>\n",
       "      <td>4918</td>\n",
       "      <td>-2.588190e-01</td>\n",
       "      <td>-0.965926</td>\n",
       "      <td>-0.999700</td>\n",
       "      <td>0.024508</td>\n",
       "    </tr>\n",
       "  </tbody>\n",
       "</table>\n",
       "</div>"
      ],
      "text/plain": [
       "  holiday    temp  rain_1h  snow_1h  clouds_all weather_main  \\\n",
       "0    None  288.28      0.0      0.0          40       Clouds   \n",
       "1    None  289.36      0.0      0.0          75       Clouds   \n",
       "2    None  289.58      0.0      0.0          90       Clouds   \n",
       "3    None  290.13      0.0      0.0          90       Clouds   \n",
       "4    None  291.14      0.0      0.0          75       Clouds   \n",
       "\n",
       "  weather_description  traffic_volume       Day sin   Day cos  Year sin  \\\n",
       "0    scattered clouds            5545  7.071068e-01 -0.707107 -0.999766   \n",
       "1       broken clouds            4516  5.000000e-01 -0.866025 -0.999750   \n",
       "2     overcast clouds            4767  2.588190e-01 -0.965926 -0.999734   \n",
       "3     overcast clouds            5026  1.143105e-11 -1.000000 -0.999717   \n",
       "4       broken clouds            4918 -2.588190e-01 -0.965926 -0.999700   \n",
       "\n",
       "   Year cos  \n",
       "0  0.021642  \n",
       "1  0.022358  \n",
       "2  0.023075  \n",
       "3  0.023791  \n",
       "4  0.024508  "
      ]
     },
     "execution_count": 22,
     "metadata": {},
     "output_type": "execute_result"
    }
   ],
   "source": [
    "#current datset\n",
    "df.head()"
   ]
  },
  {
   "cell_type": "markdown",
   "metadata": {},
   "source": [
    "### select final variables"
   ]
  },
  {
   "cell_type": "code",
   "execution_count": 23,
   "metadata": {},
   "outputs": [],
   "source": [
    "#drop 'weather_description', since it high correlate to 'weather_main'\n",
    "df = df.drop(columns = ['weather_description'])"
   ]
  },
  {
   "cell_type": "code",
   "execution_count": 24,
   "metadata": {},
   "outputs": [],
   "source": [
    "# convert variables 'holiday' and 'weather_main' into dummy variables\n",
    "df = pd.get_dummies(df, columns = ['holiday','weather_main'])"
   ]
  },
  {
   "cell_type": "code",
   "execution_count": 25,
   "metadata": {},
   "outputs": [
    {
     "data": {
      "text/html": [
       "<div>\n",
       "<style scoped>\n",
       "    .dataframe tbody tr th:only-of-type {\n",
       "        vertical-align: middle;\n",
       "    }\n",
       "\n",
       "    .dataframe tbody tr th {\n",
       "        vertical-align: top;\n",
       "    }\n",
       "\n",
       "    .dataframe thead th {\n",
       "        text-align: right;\n",
       "    }\n",
       "</style>\n",
       "<table border=\"1\" class=\"dataframe\">\n",
       "  <thead>\n",
       "    <tr style=\"text-align: right;\">\n",
       "      <th></th>\n",
       "      <th>temp</th>\n",
       "      <th>rain_1h</th>\n",
       "      <th>snow_1h</th>\n",
       "      <th>clouds_all</th>\n",
       "      <th>traffic_volume</th>\n",
       "      <th>Day sin</th>\n",
       "      <th>Day cos</th>\n",
       "      <th>Year sin</th>\n",
       "      <th>Year cos</th>\n",
       "      <th>holiday_Christmas Day</th>\n",
       "      <th>...</th>\n",
       "      <th>weather_main_Clouds</th>\n",
       "      <th>weather_main_Drizzle</th>\n",
       "      <th>weather_main_Fog</th>\n",
       "      <th>weather_main_Haze</th>\n",
       "      <th>weather_main_Mist</th>\n",
       "      <th>weather_main_Rain</th>\n",
       "      <th>weather_main_Smoke</th>\n",
       "      <th>weather_main_Snow</th>\n",
       "      <th>weather_main_Squall</th>\n",
       "      <th>weather_main_Thunderstorm</th>\n",
       "    </tr>\n",
       "  </thead>\n",
       "  <tbody>\n",
       "    <tr>\n",
       "      <th>0</th>\n",
       "      <td>288.28</td>\n",
       "      <td>0.0</td>\n",
       "      <td>0.0</td>\n",
       "      <td>40</td>\n",
       "      <td>5545</td>\n",
       "      <td>7.071068e-01</td>\n",
       "      <td>-0.707107</td>\n",
       "      <td>-0.999766</td>\n",
       "      <td>0.021642</td>\n",
       "      <td>0</td>\n",
       "      <td>...</td>\n",
       "      <td>1</td>\n",
       "      <td>0</td>\n",
       "      <td>0</td>\n",
       "      <td>0</td>\n",
       "      <td>0</td>\n",
       "      <td>0</td>\n",
       "      <td>0</td>\n",
       "      <td>0</td>\n",
       "      <td>0</td>\n",
       "      <td>0</td>\n",
       "    </tr>\n",
       "    <tr>\n",
       "      <th>1</th>\n",
       "      <td>289.36</td>\n",
       "      <td>0.0</td>\n",
       "      <td>0.0</td>\n",
       "      <td>75</td>\n",
       "      <td>4516</td>\n",
       "      <td>5.000000e-01</td>\n",
       "      <td>-0.866025</td>\n",
       "      <td>-0.999750</td>\n",
       "      <td>0.022358</td>\n",
       "      <td>0</td>\n",
       "      <td>...</td>\n",
       "      <td>1</td>\n",
       "      <td>0</td>\n",
       "      <td>0</td>\n",
       "      <td>0</td>\n",
       "      <td>0</td>\n",
       "      <td>0</td>\n",
       "      <td>0</td>\n",
       "      <td>0</td>\n",
       "      <td>0</td>\n",
       "      <td>0</td>\n",
       "    </tr>\n",
       "    <tr>\n",
       "      <th>2</th>\n",
       "      <td>289.58</td>\n",
       "      <td>0.0</td>\n",
       "      <td>0.0</td>\n",
       "      <td>90</td>\n",
       "      <td>4767</td>\n",
       "      <td>2.588190e-01</td>\n",
       "      <td>-0.965926</td>\n",
       "      <td>-0.999734</td>\n",
       "      <td>0.023075</td>\n",
       "      <td>0</td>\n",
       "      <td>...</td>\n",
       "      <td>1</td>\n",
       "      <td>0</td>\n",
       "      <td>0</td>\n",
       "      <td>0</td>\n",
       "      <td>0</td>\n",
       "      <td>0</td>\n",
       "      <td>0</td>\n",
       "      <td>0</td>\n",
       "      <td>0</td>\n",
       "      <td>0</td>\n",
       "    </tr>\n",
       "    <tr>\n",
       "      <th>3</th>\n",
       "      <td>290.13</td>\n",
       "      <td>0.0</td>\n",
       "      <td>0.0</td>\n",
       "      <td>90</td>\n",
       "      <td>5026</td>\n",
       "      <td>1.143105e-11</td>\n",
       "      <td>-1.000000</td>\n",
       "      <td>-0.999717</td>\n",
       "      <td>0.023791</td>\n",
       "      <td>0</td>\n",
       "      <td>...</td>\n",
       "      <td>1</td>\n",
       "      <td>0</td>\n",
       "      <td>0</td>\n",
       "      <td>0</td>\n",
       "      <td>0</td>\n",
       "      <td>0</td>\n",
       "      <td>0</td>\n",
       "      <td>0</td>\n",
       "      <td>0</td>\n",
       "      <td>0</td>\n",
       "    </tr>\n",
       "    <tr>\n",
       "      <th>4</th>\n",
       "      <td>291.14</td>\n",
       "      <td>0.0</td>\n",
       "      <td>0.0</td>\n",
       "      <td>75</td>\n",
       "      <td>4918</td>\n",
       "      <td>-2.588190e-01</td>\n",
       "      <td>-0.965926</td>\n",
       "      <td>-0.999700</td>\n",
       "      <td>0.024508</td>\n",
       "      <td>0</td>\n",
       "      <td>...</td>\n",
       "      <td>1</td>\n",
       "      <td>0</td>\n",
       "      <td>0</td>\n",
       "      <td>0</td>\n",
       "      <td>0</td>\n",
       "      <td>0</td>\n",
       "      <td>0</td>\n",
       "      <td>0</td>\n",
       "      <td>0</td>\n",
       "      <td>0</td>\n",
       "    </tr>\n",
       "  </tbody>\n",
       "</table>\n",
       "<p>5 rows × 32 columns</p>\n",
       "</div>"
      ],
      "text/plain": [
       "     temp  rain_1h  snow_1h  clouds_all  traffic_volume       Day sin  \\\n",
       "0  288.28      0.0      0.0          40            5545  7.071068e-01   \n",
       "1  289.36      0.0      0.0          75            4516  5.000000e-01   \n",
       "2  289.58      0.0      0.0          90            4767  2.588190e-01   \n",
       "3  290.13      0.0      0.0          90            5026  1.143105e-11   \n",
       "4  291.14      0.0      0.0          75            4918 -2.588190e-01   \n",
       "\n",
       "    Day cos  Year sin  Year cos  holiday_Christmas Day  ...  \\\n",
       "0 -0.707107 -0.999766  0.021642                      0  ...   \n",
       "1 -0.866025 -0.999750  0.022358                      0  ...   \n",
       "2 -0.965926 -0.999734  0.023075                      0  ...   \n",
       "3 -1.000000 -0.999717  0.023791                      0  ...   \n",
       "4 -0.965926 -0.999700  0.024508                      0  ...   \n",
       "\n",
       "   weather_main_Clouds  weather_main_Drizzle  weather_main_Fog  \\\n",
       "0                    1                     0                 0   \n",
       "1                    1                     0                 0   \n",
       "2                    1                     0                 0   \n",
       "3                    1                     0                 0   \n",
       "4                    1                     0                 0   \n",
       "\n",
       "   weather_main_Haze  weather_main_Mist  weather_main_Rain  \\\n",
       "0                  0                  0                  0   \n",
       "1                  0                  0                  0   \n",
       "2                  0                  0                  0   \n",
       "3                  0                  0                  0   \n",
       "4                  0                  0                  0   \n",
       "\n",
       "   weather_main_Smoke  weather_main_Snow  weather_main_Squall  \\\n",
       "0                   0                  0                    0   \n",
       "1                   0                  0                    0   \n",
       "2                   0                  0                    0   \n",
       "3                   0                  0                    0   \n",
       "4                   0                  0                    0   \n",
       "\n",
       "   weather_main_Thunderstorm  \n",
       "0                          0  \n",
       "1                          0  \n",
       "2                          0  \n",
       "3                          0  \n",
       "4                          0  \n",
       "\n",
       "[5 rows x 32 columns]"
      ]
     },
     "execution_count": 25,
     "metadata": {},
     "output_type": "execute_result"
    }
   ],
   "source": [
    "df.head()"
   ]
  },
  {
   "cell_type": "code",
   "execution_count": 26,
   "metadata": {},
   "outputs": [
    {
     "data": {
      "text/plain": [
       "(48204, 32)"
      ]
     },
     "execution_count": 26,
     "metadata": {},
     "output_type": "execute_result"
    }
   ],
   "source": [
    "df.shape"
   ]
  },
  {
   "cell_type": "markdown",
   "metadata": {},
   "source": [
    "### split the data\n",
    "Split the data into:   \n",
    "training: 70%  \n",
    "validation: about 20%  \n",
    "test: 5000 records"
   ]
  },
  {
   "cell_type": "code",
   "execution_count": 27,
   "metadata": {},
   "outputs": [],
   "source": [
    "# From TF Tutorial\n",
    "column_indices = {name: i for i, name in enumerate(df.columns)}\n",
    "n = len(df) - 5000\n",
    "\n",
    "train_df = df[0:int(n*0.8)]\n",
    "val_df = df[int(n*0.8):n]\n",
    "test_df = df[n:]\n",
    "\n",
    "num_features = df.shape[1]"
   ]
  },
  {
   "cell_type": "code",
   "execution_count": 28,
   "metadata": {},
   "outputs": [
    {
     "name": "stdout",
     "output_type": "stream",
     "text": [
      "train_df: (34563, 32)\n",
      "val_df: (8641, 32)\n",
      "test_df: (5000, 32)\n"
     ]
    }
   ],
   "source": [
    "print('train_df:', train_df.shape)\n",
    "print('val_df:', val_df.shape)\n",
    "print('test_df:', test_df.shape)"
   ]
  },
  {
   "cell_type": "markdown",
   "metadata": {},
   "source": [
    "### Normalize the data\n",
    "From TF Tutorial"
   ]
  },
  {
   "cell_type": "code",
   "execution_count": 29,
   "metadata": {},
   "outputs": [],
   "source": [
    "train_mean = train_df.mean()\n",
    "train_std = train_df.std()\n",
    "\n",
    "#convert the prediction result back for later use\n",
    "train_volumn_mean = train_df['traffic_volume'].mean()\n",
    "train_volumn_std = train_df['traffic_volume'].std()\n",
    "\n",
    "train_df = (train_df - train_mean) / train_std\n",
    "val_df = (val_df - train_mean) / train_std\n",
    "test_df = (test_df - train_mean) / train_std"
   ]
  },
  {
   "cell_type": "code",
   "execution_count": 30,
   "metadata": {},
   "outputs": [
    {
     "data": {
      "text/html": [
       "<div>\n",
       "<style scoped>\n",
       "    .dataframe tbody tr th:only-of-type {\n",
       "        vertical-align: middle;\n",
       "    }\n",
       "\n",
       "    .dataframe tbody tr th {\n",
       "        vertical-align: top;\n",
       "    }\n",
       "\n",
       "    .dataframe thead th {\n",
       "        text-align: right;\n",
       "    }\n",
       "</style>\n",
       "<table border=\"1\" class=\"dataframe\">\n",
       "  <thead>\n",
       "    <tr style=\"text-align: right;\">\n",
       "      <th></th>\n",
       "      <th>temp</th>\n",
       "      <th>rain_1h</th>\n",
       "      <th>snow_1h</th>\n",
       "      <th>clouds_all</th>\n",
       "      <th>traffic_volume</th>\n",
       "      <th>Day sin</th>\n",
       "      <th>Day cos</th>\n",
       "      <th>Year sin</th>\n",
       "      <th>Year cos</th>\n",
       "      <th>holiday_Christmas Day</th>\n",
       "      <th>...</th>\n",
       "      <th>weather_main_Clouds</th>\n",
       "      <th>weather_main_Drizzle</th>\n",
       "      <th>weather_main_Fog</th>\n",
       "      <th>weather_main_Haze</th>\n",
       "      <th>weather_main_Mist</th>\n",
       "      <th>weather_main_Rain</th>\n",
       "      <th>weather_main_Smoke</th>\n",
       "      <th>weather_main_Snow</th>\n",
       "      <th>weather_main_Squall</th>\n",
       "      <th>weather_main_Thunderstorm</th>\n",
       "    </tr>\n",
       "  </thead>\n",
       "  <tbody>\n",
       "    <tr>\n",
       "      <th>0</th>\n",
       "      <td>0.595124</td>\n",
       "      <td>-0.008284</td>\n",
       "      <td>-0.03216</td>\n",
       "      <td>-0.265706</td>\n",
       "      <td>1.157717</td>\n",
       "      <td>0.979774</td>\n",
       "      <td>-1.013411</td>\n",
       "      <td>-1.537450</td>\n",
       "      <td>0.003435</td>\n",
       "      <td>-0.012028</td>\n",
       "      <td>...</td>\n",
       "      <td>1.421776</td>\n",
       "      <td>-0.195068</td>\n",
       "      <td>-0.130526</td>\n",
       "      <td>-0.164531</td>\n",
       "      <td>-0.367772</td>\n",
       "      <td>-0.364978</td>\n",
       "      <td>-0.022183</td>\n",
       "      <td>-0.252397</td>\n",
       "      <td>-0.010758</td>\n",
       "      <td>-0.130296</td>\n",
       "    </tr>\n",
       "    <tr>\n",
       "      <th>1</th>\n",
       "      <td>0.675784</td>\n",
       "      <td>-0.008284</td>\n",
       "      <td>-0.03216</td>\n",
       "      <td>0.634376</td>\n",
       "      <td>0.640601</td>\n",
       "      <td>0.687154</td>\n",
       "      <td>-1.238418</td>\n",
       "      <td>-1.537427</td>\n",
       "      <td>0.004434</td>\n",
       "      <td>-0.012028</td>\n",
       "      <td>...</td>\n",
       "      <td>1.421776</td>\n",
       "      <td>-0.195068</td>\n",
       "      <td>-0.130526</td>\n",
       "      <td>-0.164531</td>\n",
       "      <td>-0.367772</td>\n",
       "      <td>-0.364978</td>\n",
       "      <td>-0.022183</td>\n",
       "      <td>-0.252397</td>\n",
       "      <td>-0.010758</td>\n",
       "      <td>-0.130296</td>\n",
       "    </tr>\n",
       "    <tr>\n",
       "      <th>2</th>\n",
       "      <td>0.692215</td>\n",
       "      <td>-0.008284</td>\n",
       "      <td>-0.03216</td>\n",
       "      <td>1.020125</td>\n",
       "      <td>0.766739</td>\n",
       "      <td>0.346391</td>\n",
       "      <td>-1.379864</td>\n",
       "      <td>-1.537403</td>\n",
       "      <td>0.005434</td>\n",
       "      <td>-0.012028</td>\n",
       "      <td>...</td>\n",
       "      <td>1.421776</td>\n",
       "      <td>-0.195068</td>\n",
       "      <td>-0.130526</td>\n",
       "      <td>-0.164531</td>\n",
       "      <td>-0.367772</td>\n",
       "      <td>-0.364978</td>\n",
       "      <td>-0.022183</td>\n",
       "      <td>-0.252397</td>\n",
       "      <td>-0.010758</td>\n",
       "      <td>-0.130296</td>\n",
       "    </tr>\n",
       "    <tr>\n",
       "      <th>3</th>\n",
       "      <td>0.733292</td>\n",
       "      <td>-0.008284</td>\n",
       "      <td>-0.03216</td>\n",
       "      <td>1.020125</td>\n",
       "      <td>0.896897</td>\n",
       "      <td>-0.019293</td>\n",
       "      <td>-1.428108</td>\n",
       "      <td>-1.537379</td>\n",
       "      <td>0.006433</td>\n",
       "      <td>-0.012028</td>\n",
       "      <td>...</td>\n",
       "      <td>1.421776</td>\n",
       "      <td>-0.195068</td>\n",
       "      <td>-0.130526</td>\n",
       "      <td>-0.164531</td>\n",
       "      <td>-0.367772</td>\n",
       "      <td>-0.364978</td>\n",
       "      <td>-0.022183</td>\n",
       "      <td>-0.252397</td>\n",
       "      <td>-0.010758</td>\n",
       "      <td>-0.130296</td>\n",
       "    </tr>\n",
       "    <tr>\n",
       "      <th>4</th>\n",
       "      <td>0.808724</td>\n",
       "      <td>-0.008284</td>\n",
       "      <td>-0.03216</td>\n",
       "      <td>0.634376</td>\n",
       "      <td>0.842623</td>\n",
       "      <td>-0.384977</td>\n",
       "      <td>-1.379864</td>\n",
       "      <td>-1.537354</td>\n",
       "      <td>0.007433</td>\n",
       "      <td>-0.012028</td>\n",
       "      <td>...</td>\n",
       "      <td>1.421776</td>\n",
       "      <td>-0.195068</td>\n",
       "      <td>-0.130526</td>\n",
       "      <td>-0.164531</td>\n",
       "      <td>-0.367772</td>\n",
       "      <td>-0.364978</td>\n",
       "      <td>-0.022183</td>\n",
       "      <td>-0.252397</td>\n",
       "      <td>-0.010758</td>\n",
       "      <td>-0.130296</td>\n",
       "    </tr>\n",
       "  </tbody>\n",
       "</table>\n",
       "<p>5 rows × 32 columns</p>\n",
       "</div>"
      ],
      "text/plain": [
       "       temp   rain_1h  snow_1h  clouds_all  traffic_volume   Day sin  \\\n",
       "0  0.595124 -0.008284 -0.03216   -0.265706        1.157717  0.979774   \n",
       "1  0.675784 -0.008284 -0.03216    0.634376        0.640601  0.687154   \n",
       "2  0.692215 -0.008284 -0.03216    1.020125        0.766739  0.346391   \n",
       "3  0.733292 -0.008284 -0.03216    1.020125        0.896897 -0.019293   \n",
       "4  0.808724 -0.008284 -0.03216    0.634376        0.842623 -0.384977   \n",
       "\n",
       "    Day cos  Year sin  Year cos  holiday_Christmas Day  ...  \\\n",
       "0 -1.013411 -1.537450  0.003435              -0.012028  ...   \n",
       "1 -1.238418 -1.537427  0.004434              -0.012028  ...   \n",
       "2 -1.379864 -1.537403  0.005434              -0.012028  ...   \n",
       "3 -1.428108 -1.537379  0.006433              -0.012028  ...   \n",
       "4 -1.379864 -1.537354  0.007433              -0.012028  ...   \n",
       "\n",
       "   weather_main_Clouds  weather_main_Drizzle  weather_main_Fog  \\\n",
       "0             1.421776             -0.195068         -0.130526   \n",
       "1             1.421776             -0.195068         -0.130526   \n",
       "2             1.421776             -0.195068         -0.130526   \n",
       "3             1.421776             -0.195068         -0.130526   \n",
       "4             1.421776             -0.195068         -0.130526   \n",
       "\n",
       "   weather_main_Haze  weather_main_Mist  weather_main_Rain  \\\n",
       "0          -0.164531          -0.367772          -0.364978   \n",
       "1          -0.164531          -0.367772          -0.364978   \n",
       "2          -0.164531          -0.367772          -0.364978   \n",
       "3          -0.164531          -0.367772          -0.364978   \n",
       "4          -0.164531          -0.367772          -0.364978   \n",
       "\n",
       "   weather_main_Smoke  weather_main_Snow  weather_main_Squall  \\\n",
       "0           -0.022183          -0.252397            -0.010758   \n",
       "1           -0.022183          -0.252397            -0.010758   \n",
       "2           -0.022183          -0.252397            -0.010758   \n",
       "3           -0.022183          -0.252397            -0.010758   \n",
       "4           -0.022183          -0.252397            -0.010758   \n",
       "\n",
       "   weather_main_Thunderstorm  \n",
       "0                  -0.130296  \n",
       "1                  -0.130296  \n",
       "2                  -0.130296  \n",
       "3                  -0.130296  \n",
       "4                  -0.130296  \n",
       "\n",
       "[5 rows x 32 columns]"
      ]
     },
     "execution_count": 30,
     "metadata": {},
     "output_type": "execute_result"
    }
   ],
   "source": [
    "train_df.head()"
   ]
  },
  {
   "cell_type": "code",
   "execution_count": 31,
   "metadata": {
    "scrolled": false
   },
   "outputs": [
    {
     "data": {
      "image/png": "[encoded data removed]",
      "text/plain": [
       "<Figure size 864x432 with 1 Axes>"
      ]
     },
     "metadata": {
      "needs_background": "light"
     },
     "output_type": "display_data"
    }
   ],
   "source": [
    "df_std = (df - train_mean) / train_std\n",
    "df_std = df_std.melt(var_name='Column', value_name='Normalized')\n",
    "plt.figure(figsize=(12, 6))\n",
    "ax = sns.violinplot(x='Column', y='Normalized', data=df_std)\n",
    "_ = ax.set_xticklabels(df.keys(), rotation=90)"
   ]
  },
  {
   "cell_type": "markdown",
   "metadata": {},
   "source": [
    "### Data Windowing\n",
    "From TF Tutorial\n",
    "\n",
    "I did the windowGnerator for input width(5-hour input window in this project), and offset = 3 and label width = 1(2 hours past the end of the window).\n",
    "\n",
    "#From TF Tutorial   \n",
    "The main features of the input windows are:\n",
    "The width (number of time steps) of the input and label windows.\n",
    "The time offset between them.\n",
    "Which features are used as inputs, labels, or both."
   ]
  },
  {
   "cell_type": "markdown",
   "metadata": {},
   "source": [
    "##### 1. Indexes and offsets\n",
    "Found the window size, input indices, label indices by using the WindowGenerator function."
   ]
  },
  {
   "cell_type": "code",
   "execution_count": 32,
   "metadata": {},
   "outputs": [],
   "source": [
    "class WindowGenerator():\n",
    "    \n",
    "    #includes all the necessary logic for the input and label indices.\n",
    "  def __init__(self, input_width, label_width, shift,\n",
    "               train_df=train_df, val_df=val_df, test_df=test_df,\n",
    "               label_columns=None):\n",
    "    # Store the raw data.\n",
    "    self.train_df = train_df\n",
    "    self.val_df = val_df\n",
    "    self.test_df = test_df\n",
    "\n",
    "    # Work out the label column indices.\n",
    "    self.label_columns = label_columns\n",
    "    if label_columns is not None:\n",
    "      self.label_columns_indices = {name: i for i, name in\n",
    "                                    enumerate(label_columns)}\n",
    "    self.column_indices = {name: i for i, name in\n",
    "                           enumerate(train_df.columns)}\n",
    "\n",
    "    # Work out the window parameters.\n",
    "    self.input_width = input_width\n",
    "    self.label_width = label_width\n",
    "    self.shift = shift\n",
    "\n",
    "    self.total_window_size = input_width + shift\n",
    "\n",
    "    self.input_slice = slice(0, input_width)\n",
    "    self.input_indices = np.arange(self.total_window_size)[self.input_slice]\n",
    "\n",
    "    self.label_start = self.total_window_size - self.label_width\n",
    "    self.labels_slice = slice(self.label_start, None)\n",
    "    self.label_indices = np.arange(self.total_window_size)[self.labels_slice]\n",
    "\n",
    "  def __repr__(self):\n",
    "    return '\\n'.join([\n",
    "        f'Total window size: {self.total_window_size}',\n",
    "        f'Input indices: {self.input_indices}',\n",
    "        f'Label indices: {self.label_indices}',\n",
    "        f'Label column name(s): {self.label_columns}'])"
   ]
  },
  {
   "cell_type": "code",
   "execution_count": 33,
   "metadata": {},
   "outputs": [
    {
     "data": {
      "text/plain": [
       "Total window size: 7\n",
       "Input indices: [0 1 2 3 4]\n",
       "Label indices: [6]\n",
       "Label column name(s): ['traffic_volume']"
      ]
     },
     "execution_count": 33,
     "metadata": {},
     "output_type": "execute_result"
    }
   ],
   "source": [
    "#test for this project case\n",
    "window_5_1_2 = WindowGenerator(input_width=5, label_width=1, shift=2,\n",
    "                     label_columns=['traffic_volume'])\n",
    "window_5_1_2"
   ]
  },
  {
   "cell_type": "markdown",
   "metadata": {},
   "source": [
    "##### 2. Split\n",
    "Given the consecutive inputs to get labels by using split_window function."
   ]
  },
  {
   "cell_type": "code",
   "execution_count": 34,
   "metadata": {},
   "outputs": [],
   "source": [
    "def split_window(self, features):\n",
    "  inputs = features[:, self.input_slice, :]\n",
    "  labels = features[:, self.labels_slice, :]\n",
    "  if self.label_columns is not None:\n",
    "    labels = tf.stack(\n",
    "        [labels[:, :, self.column_indices[name]] for name in self.label_columns],\n",
    "        axis=-1)\n",
    "\n",
    "  # Slicing doesn't preserve static shape information, so set the shapes\n",
    "  # manually. This way the `tf.data.Datasets` are easier to inspect.\n",
    "  inputs.set_shape([None, self.input_width, None])\n",
    "  labels.set_shape([None, self.label_width, None])\n",
    "\n",
    "  return inputs, labels\n",
    "\n",
    "WindowGenerator.split_window = split_window"
   ]
  },
  {
   "cell_type": "code",
   "execution_count": 35,
   "metadata": {},
   "outputs": [
    {
     "name": "stdout",
     "output_type": "stream",
     "text": [
      "All shapes are: (batch, time, features)\n",
      "Window shape: (3, 7, 32)\n",
      "Inputs shape: (3, 5, 32)\n",
      "Labels shape: (3, 1, 1)\n"
     ]
    }
   ],
   "source": [
    "# Stack three slices, the length of the total window.\n",
    "example_window = tf.stack([np.array(train_df[:window_5_1_2.total_window_size]),\n",
    "                           np.array(train_df[100:100+window_5_1_2.total_window_size]),\n",
    "                           np.array(train_df[200:200+window_5_1_2.total_window_size])])\n",
    "\n",
    "example_inputs, example_labels = window_5_1_2.split_window(example_window)\n",
    "\n",
    "print('All shapes are: (batch, time, features)')\n",
    "print(f'Window shape: {example_window.shape}')\n",
    "print(f'Inputs shape: {example_inputs.shape}')\n",
    "print(f'Labels shape: {example_labels.shape}')"
   ]
  },
  {
   "cell_type": "markdown",
   "metadata": {},
   "source": [
    "##### 3. Plot\n",
    "Show the plot of 5 input traffic_volumes and the label traffic_volume by using plot function."
   ]
  },
  {
   "cell_type": "code",
   "execution_count": 36,
   "metadata": {},
   "outputs": [],
   "source": [
    "window_5_1_2.example = example_inputs, example_labels"
   ]
  },
  {
   "cell_type": "code",
   "execution_count": 37,
   "metadata": {},
   "outputs": [],
   "source": [
    "# I have changed the label from the tutorial 1 into 2.\n",
    "def plot(self, model=None, plot_col='traffic_volume', max_subplots=3):\n",
    "  inputs, labels = self.example\n",
    "  plt.figure(figsize=(12, 8))\n",
    "  plot_col_index = self.column_indices[plot_col]\n",
    "  max_n = min(max_subplots, len(inputs))\n",
    "  for n in range(max_n):\n",
    "    plt.subplot(max_n, 2, n+2)\n",
    "    plt.ylabel(f'{plot_col} [normed]')\n",
    "    plt.plot(self.input_indices, inputs[n, :, plot_col_index],\n",
    "             label='Inputs', marker='.', zorder=-10)\n",
    "\n",
    "    if self.label_columns:\n",
    "      label_col_index = self.label_columns_indices.get(plot_col, None)\n",
    "    else:\n",
    "      label_col_index = plot_col_index\n",
    "\n",
    "    if label_col_index is None:\n",
    "      continue\n",
    "\n",
    "    plt.scatter(self.label_indices, labels[n, :, label_col_index],\n",
    "                edgecolors='k', label='Labels', c='#2ca02c', s=64)\n",
    "    if model is not None:\n",
    "      predictions = model(inputs)\n",
    "      plt.scatter(self.label_indices, predictions[n, :, label_col_index],\n",
    "                  marker='X', edgecolors='k', label='Predictions',\n",
    "                  c='#ff7f0e', s=64)\n",
    "\n",
    "    if n == 0:\n",
    "      plt.legend()\n",
    "\n",
    "  plt.xlabel('Time [h]')\n",
    "\n",
    "WindowGenerator.plot = plot"
   ]
  },
  {
   "cell_type": "code",
   "execution_count": 38,
   "metadata": {},
   "outputs": [
    {
     "data": {
      "image/png": "[encoded data removed]",
      "text/plain": [
       "<Figure size 864x576 with 3 Axes>"
      ]
     },
     "metadata": {
      "needs_background": "light"
     },
     "output_type": "display_data"
    }
   ],
   "source": [
    "window_5_1_2.plot()"
   ]
  },
  {
   "cell_type": "markdown",
   "metadata": {},
   "source": [
    "##### 4. Create tf.data.Datasets\n",
    "\n",
    "Finally, this make_dataset method will take a time series DataFrame and convert it to a tf.data.Dataset of (input_window, label_window) pairs using the tf.keras.utils.timeseries_dataset_from_array function:"
   ]
  },
  {
   "cell_type": "code",
   "execution_count": 39,
   "metadata": {},
   "outputs": [],
   "source": [
    "def make_dataset(self, data):\n",
    "  data = np.array(data, dtype=np.float32)\n",
    "  ds = tf.keras.utils.timeseries_dataset_from_array(\n",
    "      data=data,\n",
    "      targets=None,\n",
    "      sequence_length=self.total_window_size,\n",
    "      sequence_stride=1,\n",
    "      shuffle=False,\n",
    "      batch_size=32,)\n",
    "\n",
    "  ds = ds.map(self.split_window)\n",
    "\n",
    "  return ds\n",
    "\n",
    "WindowGenerator.make_dataset = make_dataset"
   ]
  },
  {
   "cell_type": "markdown",
   "metadata": {},
   "source": [
    "The WindowGenerator object holds training, validation, and test data.\n",
    "\n",
    "Add properties for accessing them as tf.data.Datasets using the make_dataset method you defined earlier. Also, add a standard example batch for easy access and plotting:"
   ]
  },
  {
   "cell_type": "code",
   "execution_count": 40,
   "metadata": {},
   "outputs": [],
   "source": [
    "@property\n",
    "def train(self):\n",
    "  return self.make_dataset(self.train_df)\n",
    "\n",
    "@property\n",
    "def val(self):\n",
    "  return self.make_dataset(self.val_df)\n",
    "\n",
    "@property\n",
    "def test(self):\n",
    "  return self.make_dataset(self.test_df)\n",
    "\n",
    "@property\n",
    "def example(self):\n",
    "  \"\"\"Get and cache an example batch of `inputs, labels` for plotting.\"\"\"\n",
    "  result = getattr(self, '_example', None)\n",
    "  if result is None:\n",
    "    # No example batch was found, so get one from the `.train` dataset\n",
    "    result = next(iter(self.train))\n",
    "    # And cache it for next time\n",
    "    self._example = result\n",
    "  return result\n",
    "\n",
    "WindowGenerator.train = train\n",
    "WindowGenerator.val = val\n",
    "WindowGenerator.test = test\n",
    "WindowGenerator.example = example"
   ]
  },
  {
   "cell_type": "markdown",
   "metadata": {},
   "source": [
    "Now, the WindowGenerator object gives you access to the tf.data.Dataset objects, so you can easily iterate over the data.\n",
    "\n",
    "The Dataset.element_spec property tells you the structure, data types, and shapes of the dataset elements."
   ]
  },
  {
   "cell_type": "code",
   "execution_count": 41,
   "metadata": {},
   "outputs": [
    {
     "data": {
      "text/plain": [
       "(TensorSpec(shape=(None, 5, 32), dtype=tf.float32, name=None),\n",
       " TensorSpec(shape=(None, 1, 1), dtype=tf.float32, name=None))"
      ]
     },
     "execution_count": 41,
     "metadata": {},
     "output_type": "execute_result"
    }
   ],
   "source": [
    "# Each element is an (inputs, label) pair.\n",
    "window_5_1_2.train.element_spec"
   ]
  },
  {
   "cell_type": "markdown",
   "metadata": {},
   "source": [
    "Iterating over a Dataset yields concrete batches:"
   ]
  },
  {
   "cell_type": "code",
   "execution_count": 42,
   "metadata": {},
   "outputs": [
    {
     "name": "stdout",
     "output_type": "stream",
     "text": [
      "Inputs shape (batch, time, features): (32, 5, 32)\n",
      "Labels shape (batch, time, features): (32, 1, 1)\n"
     ]
    }
   ],
   "source": [
    "for example_inputs, example_labels in window_5_1_2.train.take(1):\n",
    "  print(f'Inputs shape (batch, time, features): {example_inputs.shape}')\n",
    "  print(f'Labels shape (batch, time, features): {example_labels.shape}')"
   ]
  },
  {
   "cell_type": "markdown",
   "metadata": {},
   "source": [
    "## Models"
   ]
  },
  {
   "cell_type": "markdown",
   "metadata": {},
   "source": [
    "#### Recurrent Neural Network baseline"
   ]
  },
  {
   "cell_type": "code",
   "execution_count": 44,
   "metadata": {},
   "outputs": [],
   "source": [
    "#From TF Tutorial\n",
    "#Set Max_Epochs and use early stopping function to stop early to save time if the 'val_loss'\n",
    "#value keeps the same.\n",
    "\n",
    "MAX_EPOCHS = 100\n",
    "\n",
    "def compile_and_fit(model, window, patience=2):\n",
    "  early_stopping = tf.keras.callbacks.EarlyStopping(monitor='val_loss',\n",
    "                                                    patience=patience,\n",
    "                                                    mode='min')\n",
    "\n",
    "  model.compile(loss=tf.losses.MeanSquaredError(),\n",
    "                optimizer=tf.optimizers.Adam(),\n",
    "                metrics=[tf.metrics.MeanAbsoluteError(),RSquared])\n",
    "\n",
    "  history = model.fit(window.train, epochs=MAX_EPOCHS,\n",
    "                      validation_data=window.val,\n",
    "                      callbacks=[early_stopping])\n",
    "  return history"
   ]
  },
  {
   "cell_type": "code",
   "execution_count": 45,
   "metadata": {},
   "outputs": [],
   "source": [
    "model = models.Sequential()\n",
    "# Shape [batch, time, features] => [batch, time, lstm_units]\n",
    "model.add(layers.LSTM(32, return_sequences=False))\n",
    "# Shape => [batch, time, features]\n",
    "model.add(layers.Dense(units=1))"
   ]
  },
  {
   "cell_type": "code",
   "execution_count": 46,
   "metadata": {},
   "outputs": [
    {
     "name": "stdout",
     "output_type": "stream",
     "text": [
      "Input shape: (32, 5, 32)\n",
      "Output shape: (32, 1)\n"
     ]
    }
   ],
   "source": [
    "print('Input shape:', window_5_1_2.example[0].shape)\n",
    "print('Output shape:', model(window_5_1_2.example[0]).shape)"
   ]
  },
  {
   "cell_type": "code",
   "execution_count": 47,
   "metadata": {
    "scrolled": true
   },
   "outputs": [
    {
     "name": "stdout",
     "output_type": "stream",
     "text": [
      "Epoch 1/100\n",
      "1080/1080 [==============================] - 5s 3ms/step - loss: 0.3254 - mean_absolute_error: 0.4143 - RSquared: 0.5777 - val_loss: 0.2222 - val_mean_absolute_error: 0.3570 - val_RSquared: 0.6706\n",
      "Epoch 2/100\n",
      "1080/1080 [==============================] - 3s 3ms/step - loss: 0.1951 - mean_absolute_error: 0.3098 - RSquared: 0.7482 - val_loss: 0.1675 - val_mean_absolute_error: 0.3002 - val_RSquared: 0.7410\n",
      "Epoch 3/100\n",
      "1080/1080 [==============================] - 3s 3ms/step - loss: 0.1578 - mean_absolute_error: 0.2733 - RSquared: 0.7968 - val_loss: 0.1214 - val_mean_absolute_error: 0.2524 - val_RSquared: 0.8130\n",
      "Epoch 4/100\n",
      "1080/1080 [==============================] - 3s 3ms/step - loss: 0.1384 - mean_absolute_error: 0.2522 - RSquared: 0.8226 - val_loss: 0.1073 - val_mean_absolute_error: 0.2338 - val_RSquared: 0.8360\n",
      "Epoch 5/100\n",
      "1080/1080 [==============================] - 3s 3ms/step - loss: 0.1263 - mean_absolute_error: 0.2388 - RSquared: 0.8385 - val_loss: 0.0950 - val_mean_absolute_error: 0.2197 - val_RSquared: 0.8557\n",
      "Epoch 6/100\n",
      "1080/1080 [==============================] - 3s 3ms/step - loss: 0.1183 - mean_absolute_error: 0.2298 - RSquared: 0.8491 - val_loss: 0.0898 - val_mean_absolute_error: 0.2135 - val_RSquared: 0.8646\n",
      "Epoch 7/100\n",
      "1080/1080 [==============================] - 3s 3ms/step - loss: 0.1131 - mean_absolute_error: 0.2237 - RSquared: 0.8561 - val_loss: 0.0878 - val_mean_absolute_error: 0.2110 - val_RSquared: 0.8689\n",
      "Epoch 8/100\n",
      "1080/1080 [==============================] - 3s 3ms/step - loss: 0.1091 - mean_absolute_error: 0.2191 - RSquared: 0.8613 - val_loss: 0.0858 - val_mean_absolute_error: 0.2091 - val_RSquared: 0.8720\n",
      "Epoch 9/100\n",
      "1080/1080 [==============================] - 3s 3ms/step - loss: 0.1059 - mean_absolute_error: 0.2153 - RSquared: 0.8656 - val_loss: 0.0843 - val_mean_absolute_error: 0.2078 - val_RSquared: 0.8744\n",
      "Epoch 10/100\n",
      "1080/1080 [==============================] - 3s 3ms/step - loss: 0.1033 - mean_absolute_error: 0.2124 - RSquared: 0.8689 - val_loss: 0.0829 - val_mean_absolute_error: 0.2065 - val_RSquared: 0.8764\n",
      "Epoch 11/100\n",
      "1080/1080 [==============================] - 3s 3ms/step - loss: 0.1010 - mean_absolute_error: 0.2098 - RSquared: 0.8719 - val_loss: 0.0826 - val_mean_absolute_error: 0.2058 - val_RSquared: 0.8767\n",
      "Epoch 12/100\n",
      "1080/1080 [==============================] - 3s 3ms/step - loss: 0.0989 - mean_absolute_error: 0.2073 - RSquared: 0.8746 - val_loss: 0.0809 - val_mean_absolute_error: 0.2042 - val_RSquared: 0.8792\n",
      "Epoch 13/100\n",
      "1080/1080 [==============================] - 4s 3ms/step - loss: 0.0974 - mean_absolute_error: 0.2055 - RSquared: 0.8766 - val_loss: 0.0811 - val_mean_absolute_error: 0.2032 - val_RSquared: 0.8792\n",
      "Epoch 14/100\n",
      "1080/1080 [==============================] - 3s 3ms/step - loss: 0.0957 - mean_absolute_error: 0.2035 - RSquared: 0.8787 - val_loss: 0.0799 - val_mean_absolute_error: 0.2026 - val_RSquared: 0.8805\n",
      "Epoch 15/100\n",
      "1080/1080 [==============================] - 3s 3ms/step - loss: 0.0944 - mean_absolute_error: 0.2020 - RSquared: 0.8804 - val_loss: 0.0793 - val_mean_absolute_error: 0.2007 - val_RSquared: 0.8825\n",
      "Epoch 16/100\n",
      "1080/1080 [==============================] - 3s 3ms/step - loss: 0.0929 - mean_absolute_error: 0.2001 - RSquared: 0.8825 - val_loss: 0.0788 - val_mean_absolute_error: 0.2008 - val_RSquared: 0.8824\n",
      "Epoch 17/100\n",
      "1080/1080 [==============================] - 3s 3ms/step - loss: 0.0915 - mean_absolute_error: 0.1986 - RSquared: 0.8841 - val_loss: 0.0779 - val_mean_absolute_error: 0.1990 - val_RSquared: 0.8846\n",
      "Epoch 18/100\n",
      "1080/1080 [==============================] - 3s 3ms/step - loss: 0.0903 - mean_absolute_error: 0.1972 - RSquared: 0.8857 - val_loss: 0.0769 - val_mean_absolute_error: 0.1981 - val_RSquared: 0.8861\n",
      "Epoch 19/100\n",
      "1080/1080 [==============================] - 3s 3ms/step - loss: 0.0891 - mean_absolute_error: 0.1958 - RSquared: 0.8872 - val_loss: 0.0769 - val_mean_absolute_error: 0.1971 - val_RSquared: 0.8863\n",
      "Epoch 20/100\n",
      "1080/1080 [==============================] - 3s 3ms/step - loss: 0.0882 - mean_absolute_error: 0.1949 - RSquared: 0.8883 - val_loss: 0.0754 - val_mean_absolute_error: 0.1958 - val_RSquared: 0.8886\n",
      "Epoch 21/100\n",
      "1080/1080 [==============================] - 3s 3ms/step - loss: 0.0871 - mean_absolute_error: 0.1936 - RSquared: 0.8898 - val_loss: 0.0753 - val_mean_absolute_error: 0.1944 - val_RSquared: 0.8891\n",
      "Epoch 22/100\n",
      "1080/1080 [==============================] - 3s 3ms/step - loss: 0.0860 - mean_absolute_error: 0.1922 - RSquared: 0.8913 - val_loss: 0.0748 - val_mean_absolute_error: 0.1942 - val_RSquared: 0.8895\n",
      "Epoch 23/100\n",
      "1080/1080 [==============================] - 4s 3ms/step - loss: 0.0850 - mean_absolute_error: 0.1912 - RSquared: 0.8923 - val_loss: 0.0741 - val_mean_absolute_error: 0.1924 - val_RSquared: 0.8909\n",
      "Epoch 24/100\n",
      "1080/1080 [==============================] - 4s 3ms/step - loss: 0.0842 - mean_absolute_error: 0.1902 - RSquared: 0.8934 - val_loss: 0.0742 - val_mean_absolute_error: 0.1926 - val_RSquared: 0.8906\n",
      "Epoch 25/100\n",
      "1080/1080 [==============================] - 4s 3ms/step - loss: 0.0833 - mean_absolute_error: 0.1893 - RSquared: 0.8945 - val_loss: 0.0742 - val_mean_absolute_error: 0.1921 - val_RSquared: 0.8909\n"
     ]
    }
   ],
   "source": [
    "history = compile_and_fit(model, window_5_1_2)"
   ]
  },
  {
   "cell_type": "code",
   "execution_count": 48,
   "metadata": {},
   "outputs": [
    {
     "data": {
      "image/png": "[encoded data removed]",
      "text/plain": [
       "<Figure size 432x288 with 1 Axes>"
      ]
     },
     "metadata": {
      "needs_background": "light"
     },
     "output_type": "display_data"
    }
   ],
   "source": [
    "plt.plot(history.history['loss'], label='training') \n",
    "plt.plot(history.history['val_loss'], label = 'valid')\n",
    "plt.xlabel('Epoch')\n",
    "plt.ylabel('Loss')\n",
    "plt.legend(loc='upper right')\n",
    "plt.title('Training and Validation Loss')\n",
    "plt.show()"
   ]
  },
  {
   "cell_type": "markdown",
   "metadata": {},
   "source": [
    "After everything settled down, I started with the recurrent neural network baseline trying to predict. The basic recurrent neural network with one layer and one dense has about 0.07 validation loss and 89% r^2, which the performance plot has shown at the right. Even though the RNN baseline model with the very baseline performs pretty well and the final training result and the validation result are pretty close, it still shows some underfitting and the training loss could be lower."
   ]
  },
  {
   "cell_type": "markdown",
   "metadata": {},
   "source": [
    "#### add CNN on LSTM"
   ]
  },
  {
   "cell_type": "code",
   "execution_count": 81,
   "metadata": {},
   "outputs": [],
   "source": [
    "model = models.Sequential()\n",
    "# Shape [batch, time, features] => [batch, time, lstm_units]\n",
    "model.add(layers.Conv1D(filters=64, kernel_size = 3, activation='relu'))\n",
    "model.add(layers.LSTM(64, return_sequences=False))\n",
    "# Shape => [batch, time, features]\n",
    "model.add(layers.Dense(units=1))"
   ]
  },
  {
   "cell_type": "code",
   "execution_count": 82,
   "metadata": {
    "scrolled": true
   },
   "outputs": [
    {
     "name": "stdout",
     "output_type": "stream",
     "text": [
      "Epoch 1/100\n",
      "1080/1080 [==============================] - 5s 3ms/step - loss: 0.2778 - mean_absolute_error: 0.3751 - RSquared: 0.6309 - val_loss: 0.1614 - val_mean_absolute_error: 0.2914 - val_RSquared: 0.7443\n",
      "Epoch 2/100\n",
      "1080/1080 [==============================] - 3s 3ms/step - loss: 0.1614 - mean_absolute_error: 0.2738 - RSquared: 0.7922 - val_loss: 0.1187 - val_mean_absolute_error: 0.2504 - val_RSquared: 0.8133\n",
      "Epoch 3/100\n",
      "1080/1080 [==============================] - 3s 3ms/step - loss: 0.1344 - mean_absolute_error: 0.2441 - RSquared: 0.8284 - val_loss: 0.0930 - val_mean_absolute_error: 0.2189 - val_RSquared: 0.8568\n",
      "Epoch 4/100\n",
      "1080/1080 [==============================] - 4s 4ms/step - loss: 0.1214 - mean_absolute_error: 0.2293 - RSquared: 0.8463 - val_loss: 0.0861 - val_mean_absolute_error: 0.2094 - val_RSquared: 0.8658\n",
      "Epoch 5/100\n",
      "1080/1080 [==============================] - 4s 3ms/step - loss: 0.1142 - mean_absolute_error: 0.2207 - RSquared: 0.8562 - val_loss: 0.0839 - val_mean_absolute_error: 0.2062 - val_RSquared: 0.8696\n",
      "Epoch 6/100\n",
      "1080/1080 [==============================] - 3s 3ms/step - loss: 0.1080 - mean_absolute_error: 0.2145 - RSquared: 0.8637 - val_loss: 0.0803 - val_mean_absolute_error: 0.2015 - val_RSquared: 0.8753\n",
      "Epoch 7/100\n",
      "1080/1080 [==============================] - 3s 3ms/step - loss: 0.1043 - mean_absolute_error: 0.2103 - RSquared: 0.8681 - val_loss: 0.0771 - val_mean_absolute_error: 0.1955 - val_RSquared: 0.8797\n",
      "Epoch 8/100\n",
      "1080/1080 [==============================] - 3s 3ms/step - loss: 0.1004 - mean_absolute_error: 0.2059 - RSquared: 0.8733 - val_loss: 0.0759 - val_mean_absolute_error: 0.1925 - val_RSquared: 0.8818\n",
      "Epoch 9/100\n",
      "1080/1080 [==============================] - 4s 4ms/step - loss: 0.0972 - mean_absolute_error: 0.2023 - RSquared: 0.8773 - val_loss: 0.0747 - val_mean_absolute_error: 0.1903 - val_RSquared: 0.8849\n",
      "Epoch 10/100\n",
      "1080/1080 [==============================] - 3s 3ms/step - loss: 0.0941 - mean_absolute_error: 0.1990 - RSquared: 0.8815 - val_loss: 0.0733 - val_mean_absolute_error: 0.1886 - val_RSquared: 0.8877\n",
      "Epoch 11/100\n",
      "1080/1080 [==============================] - 3s 3ms/step - loss: 0.0918 - mean_absolute_error: 0.1965 - RSquared: 0.8843 - val_loss: 0.0746 - val_mean_absolute_error: 0.1905 - val_RSquared: 0.8874\n",
      "Epoch 12/100\n",
      "1080/1080 [==============================] - 3s 3ms/step - loss: 0.0896 - mean_absolute_error: 0.1943 - RSquared: 0.8873 - val_loss: 0.0741 - val_mean_absolute_error: 0.1895 - val_RSquared: 0.8886\n"
     ]
    }
   ],
   "source": [
    "history = compile_and_fit(model, window_5_1_2)"
   ]
  },
  {
   "cell_type": "code",
   "execution_count": 83,
   "metadata": {},
   "outputs": [
    {
     "data": {
      "image/png": "[encoded data removed]",
      "text/plain": [
       "<Figure size 432x288 with 1 Axes>"
      ]
     },
     "metadata": {
      "needs_background": "light"
     },
     "output_type": "display_data"
    }
   ],
   "source": [
    "plt.plot(history.history['loss'], label='training') \n",
    "plt.plot(history.history['val_loss'], label = 'valid')\n",
    "plt.xlabel('Epoch')\n",
    "plt.ylabel('Loss')\n",
    "plt.legend(loc='upper right')\n",
    "plt.title('Training and Validation Loss')\n",
    "plt.show()"
   ]
  },
  {
   "cell_type": "markdown",
   "metadata": {},
   "source": [
    "From the class material, I learned that RNN/LSTM is suitable for dealing with the sequences dataset by treating the data with a 3D shape. CNN is good with digging the spatial correlation from the dataset and treating data as 3D. By combined these two methods, it can help to improve the performance of predicting. After trying the recurrent neural network baseline, I added a 1D convolutional neural network layer into the original model to extract features and used RNN dense layer as the last layer to analyze the features across the consequence time steps, which is suitable for this dataset situation. Form the performance plot which shown at the right, we can found the validation loss is still around 0.08 and 87% r^2."
   ]
  },
  {
   "cell_type": "markdown",
   "metadata": {},
   "source": [
    "#### RNN with tuning parameters"
   ]
  },
  {
   "cell_type": "code",
   "execution_count": 64,
   "metadata": {},
   "outputs": [],
   "source": [
    "#LSTM model, MAE:0.0525\n",
    "model = models.Sequential()\n",
    "model.add(layers.LSTM(64, return_sequences=True,recurrent_dropout = 0.1))\n",
    "model.add(layers.Dropout(0.1))\n",
    "model.add(layers.LSTM(32, return_sequences=False,recurrent_dropout = 0.1))\n",
    "model.add(layers.Dense(units=1))"
   ]
  },
  {
   "cell_type": "code",
   "execution_count": 65,
   "metadata": {},
   "outputs": [
    {
     "name": "stdout",
     "output_type": "stream",
     "text": [
      "Input shape: (32, 5, 32)\n",
      "Output shape: (32, 1)\n"
     ]
    }
   ],
   "source": [
    "print('Input shape:', window_5_1_2.example[0].shape)\n",
    "print('Output shape:', model(window_5_1_2.example[0]).shape)"
   ]
  },
  {
   "cell_type": "code",
   "execution_count": 66,
   "metadata": {
    "scrolled": true
   },
   "outputs": [
    {
     "name": "stdout",
     "output_type": "stream",
     "text": [
      "Epoch 1/100\n",
      "1080/1080 [==============================] - 11s 7ms/step - loss: 0.3081 - mean_absolute_error: 0.3982 - RSquared: 0.5902 - val_loss: 0.1758 - val_mean_absolute_error: 0.3101 - val_RSquared: 0.7198\n",
      "Epoch 2/100\n",
      "1080/1080 [==============================] - 8s 8ms/step - loss: 0.1831 - mean_absolute_error: 0.2969 - RSquared: 0.7620 - val_loss: 0.1288 - val_mean_absolute_error: 0.2627 - val_RSquared: 0.8063\n",
      "Epoch 3/100\n",
      "1080/1080 [==============================] - 7s 7ms/step - loss: 0.1523 - mean_absolute_error: 0.2665 - RSquared: 0.8029 - val_loss: 0.1018 - val_mean_absolute_error: 0.2305 - val_RSquared: 0.8427\n",
      "Epoch 4/100\n",
      "1080/1080 [==============================] - 8s 7ms/step - loss: 0.1349 - mean_absolute_error: 0.2477 - RSquared: 0.8265 - val_loss: 0.0919 - val_mean_absolute_error: 0.2156 - val_RSquared: 0.8594\n",
      "Epoch 5/100\n",
      "1080/1080 [==============================] - 8s 7ms/step - loss: 0.1233 - mean_absolute_error: 0.2351 - RSquared: 0.8410 - val_loss: 0.0864 - val_mean_absolute_error: 0.2076 - val_RSquared: 0.8654\n",
      "Epoch 6/100\n",
      "1080/1080 [==============================] - 8s 7ms/step - loss: 0.1163 - mean_absolute_error: 0.2269 - RSquared: 0.8506 - val_loss: 0.0811 - val_mean_absolute_error: 0.2003 - val_RSquared: 0.8736\n",
      "Epoch 7/100\n",
      "1080/1080 [==============================] - 8s 7ms/step - loss: 0.1097 - mean_absolute_error: 0.2186 - RSquared: 0.8604 - val_loss: 0.0758 - val_mean_absolute_error: 0.1921 - val_RSquared: 0.8814\n",
      "Epoch 8/100\n",
      "1080/1080 [==============================] - 8s 7ms/step - loss: 0.1065 - mean_absolute_error: 0.2144 - RSquared: 0.8638 - val_loss: 0.0751 - val_mean_absolute_error: 0.1909 - val_RSquared: 0.8827\n",
      "Epoch 9/100\n",
      "1080/1080 [==============================] - 8s 7ms/step - loss: 0.1028 - mean_absolute_error: 0.2099 - RSquared: 0.8694 - val_loss: 0.0684 - val_mean_absolute_error: 0.1809 - val_RSquared: 0.8922\n",
      "Epoch 10/100\n",
      "1080/1080 [==============================] - 8s 7ms/step - loss: 0.1008 - mean_absolute_error: 0.2073 - RSquared: 0.8719 - val_loss: 0.0701 - val_mean_absolute_error: 0.1824 - val_RSquared: 0.8913\n",
      "Epoch 11/100\n",
      "1080/1080 [==============================] - 8s 7ms/step - loss: 0.0970 - mean_absolute_error: 0.2030 - RSquared: 0.8770 - val_loss: 0.0697 - val_mean_absolute_error: 0.1822 - val_RSquared: 0.8921\n"
     ]
    }
   ],
   "source": [
    "history = compile_and_fit(model, window_5_1_2)"
   ]
  },
  {
   "cell_type": "code",
   "execution_count": 67,
   "metadata": {},
   "outputs": [
    {
     "data": {
      "image/png": "[encoded data removed]",
      "text/plain": [
       "<Figure size 432x288 with 1 Axes>"
      ]
     },
     "metadata": {
      "needs_background": "light"
     },
     "output_type": "display_data"
    }
   ],
   "source": [
    "plt.plot(history.history['loss'], label='training') \n",
    "plt.plot(history.history['val_loss'], label = 'valid')\n",
    "plt.xlabel('Epoch')\n",
    "plt.ylabel('Loss')\n",
    "plt.legend(loc='upper right')\n",
    "plt.title('Training and Validation Loss')\n",
    "plt.show()"
   ]
  },
  {
   "cell_type": "markdown",
   "metadata": {},
   "source": [
    "I also tried changing the batch size to 64 and 240, trying to control the training case into the network before the weight got updated, which can help improve the performance. After comparing the results, size 64 performance was the best. After trying different batch sizes, I added recurrent dropout = 0.1 and changed the number of epochs. The performance improved slightly with 0.068 validation loss, 0.0525 MAE, and 89% r^2. "
   ]
  },
  {
   "cell_type": "markdown",
   "metadata": {},
   "source": [
    "#### Bidirectional - best model for Kaggle"
   ]
  },
  {
   "cell_type": "code",
   "execution_count": 56,
   "metadata": {},
   "outputs": [],
   "source": [
    "#Bidirectional/ ,MAE:0.0571\n",
    "model = models.Sequential()\n",
    "# Shape [batch, time, features] => [batch, time, lstm_units]\n",
    "model.add(layers.Bidirectional(layers.LSTM(64, return_sequences=True,recurrent_dropout = 0.1)))\n",
    "model.add(layers.LSTM(64))\n",
    "model.add(layers.Dense(units = 32))\n",
    "model.add(layers.Dense(units=1))"
   ]
  },
  {
   "cell_type": "code",
   "execution_count": 57,
   "metadata": {},
   "outputs": [
    {
     "name": "stdout",
     "output_type": "stream",
     "text": [
      "Input shape: (32, 5, 32)\n",
      "Output shape: (32, 1)\n"
     ]
    }
   ],
   "source": [
    "print('Input shape:', window_5_1_2.example[0].shape)\n",
    "print('Output shape:', model(window_5_1_2.example[0]).shape)"
   ]
  },
  {
   "cell_type": "code",
   "execution_count": 58,
   "metadata": {
    "scrolled": true
   },
   "outputs": [
    {
     "name": "stdout",
     "output_type": "stream",
     "text": [
      "Epoch 1/100\n",
      "1080/1080 [==============================] - 12s 7ms/step - loss: 0.2667 - mean_absolute_error: 0.3664 - RSquared: 0.6489 - val_loss: 0.1454 - val_mean_absolute_error: 0.2807 - val_RSquared: 0.7792\n",
      "Epoch 2/100\n",
      "1080/1080 [==============================] - 7s 7ms/step - loss: 0.1547 - mean_absolute_error: 0.2658 - RSquared: 0.8013 - val_loss: 0.1141 - val_mean_absolute_error: 0.2350 - val_RSquared: 0.8272\n",
      "Epoch 3/100\n",
      "1080/1080 [==============================] - 8s 7ms/step - loss: 0.1305 - mean_absolute_error: 0.2403 - RSquared: 0.8339 - val_loss: 0.0978 - val_mean_absolute_error: 0.2185 - val_RSquared: 0.8519\n",
      "Epoch 4/100\n",
      "1080/1080 [==============================] - 7s 7ms/step - loss: 0.1189 - mean_absolute_error: 0.2279 - RSquared: 0.8496 - val_loss: 0.0850 - val_mean_absolute_error: 0.2034 - val_RSquared: 0.8708\n",
      "Epoch 5/100\n",
      "1080/1080 [==============================] - 8s 7ms/step - loss: 0.1113 - mean_absolute_error: 0.2191 - RSquared: 0.8597 - val_loss: 0.0829 - val_mean_absolute_error: 0.2012 - val_RSquared: 0.8761\n",
      "Epoch 6/100\n",
      "1080/1080 [==============================] - 7s 7ms/step - loss: 0.1055 - mean_absolute_error: 0.2120 - RSquared: 0.8676 - val_loss: 0.0835 - val_mean_absolute_error: 0.2017 - val_RSquared: 0.8743\n",
      "Epoch 7/100\n",
      "1080/1080 [==============================] - 8s 7ms/step - loss: 0.1012 - mean_absolute_error: 0.2069 - RSquared: 0.8729 - val_loss: 0.0752 - val_mean_absolute_error: 0.1913 - val_RSquared: 0.8871\n",
      "Epoch 8/100\n",
      "1080/1080 [==============================] - 8s 7ms/step - loss: 0.0972 - mean_absolute_error: 0.2020 - RSquared: 0.8781 - val_loss: 0.0767 - val_mean_absolute_error: 0.1935 - val_RSquared: 0.8871\n",
      "Epoch 9/100\n",
      "1080/1080 [==============================] - 8s 7ms/step - loss: 0.0948 - mean_absolute_error: 0.1992 - RSquared: 0.8808 - val_loss: 0.0716 - val_mean_absolute_error: 0.1849 - val_RSquared: 0.8929\n",
      "Epoch 10/100\n",
      "1080/1080 [==============================] - 7s 7ms/step - loss: 0.0919 - mean_absolute_error: 0.1957 - RSquared: 0.8847 - val_loss: 0.0725 - val_mean_absolute_error: 0.1857 - val_RSquared: 0.8917\n",
      "Epoch 11/100\n",
      "1080/1080 [==============================] - 7s 7ms/step - loss: 0.0895 - mean_absolute_error: 0.1934 - RSquared: 0.8872 - val_loss: 0.0713 - val_mean_absolute_error: 0.1835 - val_RSquared: 0.8958\n",
      "Epoch 12/100\n",
      "1080/1080 [==============================] - 7s 7ms/step - loss: 0.0874 - mean_absolute_error: 0.1909 - RSquared: 0.8902 - val_loss: 0.0722 - val_mean_absolute_error: 0.1852 - val_RSquared: 0.8962\n",
      "Epoch 13/100\n",
      "1080/1080 [==============================] - 8s 7ms/step - loss: 0.0850 - mean_absolute_error: 0.1879 - RSquared: 0.8931 - val_loss: 0.0729 - val_mean_absolute_error: 0.1852 - val_RSquared: 0.8958\n"
     ]
    }
   ],
   "source": [
    "history = compile_and_fit(model, window_5_1_2)"
   ]
  },
  {
   "cell_type": "code",
   "execution_count": 59,
   "metadata": {},
   "outputs": [
    {
     "data": {
      "image/png": "[encoded data removed]",
      "text/plain": [
       "<Figure size 432x288 with 1 Axes>"
      ]
     },
     "metadata": {
      "needs_background": "light"
     },
     "output_type": "display_data"
    }
   ],
   "source": [
    "plt.plot(history.history['loss'], label='training') \n",
    "plt.plot(history.history['val_loss'], label = 'valid')\n",
    "plt.xlabel('Epoch')\n",
    "plt.ylabel('Loss')\n",
    "plt.legend(loc='upper right')\n",
    "plt.title('Training and Validation Loss')\n",
    "plt.show()"
   ]
  },
  {
   "cell_type": "markdown",
   "metadata": {},
   "source": [
    "After changing the tuning parameters, I tried bidirectional RNNs, which combined two RNN models with size 64 as the batch sizes, 0.1 dropout, and one more dense layer. One LSTM layer is for moving forward to the sequences dataset, and another RNN model is for moving backward. The mean absolute error is around 0.0571, and the r^2 is about 0.90. I also used this model to predict the result for Kaggle, with about 806 score."
   ]
  },
  {
   "cell_type": "markdown",
   "metadata": {},
   "source": [
    "### convert result and save into file"
   ]
  },
  {
   "cell_type": "code",
   "execution_count": 86,
   "metadata": {},
   "outputs": [],
   "source": [
    "def prediction(model):\n",
    "    prediction = model.predict(window_5_1_2.test)\n",
    "    #prediction = convertbackscaler.inverse_transform(prediction)\n",
    "    predictions = [(i * train_volumn_std) + train_volumn_mean for i in prediction]\n",
    "    \n",
    "    df = pd.DataFrame(predictions, columns = ['prediction'])\n",
    "    id = []\n",
    "    for i in range(len(df)):\n",
    "        id.append(i+1)    \n",
    "    df.insert(loc=0, column = 'id',value = id)\n",
    "    \n",
    "    #save to csv file\n",
    "    df.to_csv('prediction.csv', index = False)\n"
   ]
  },
  {
   "cell_type": "code",
   "execution_count": 87,
   "metadata": {
    "scrolled": true
   },
   "outputs": [],
   "source": [
    "prediction(model)"
   ]
  },
  {
   "cell_type": "code",
   "execution_count": null,
   "metadata": {},
   "outputs": [],
   "source": []
  }
 ],
 "metadata": {
  "kernelspec": {
   "display_name": "Python 3",
   "language": "python",
   "name": "python3"
  },
  "language_info": {
   "codemirror_mode": {
    "name": "ipython",
    "version": 3
   },
   "file_extension": ".py",
   "mimetype": "text/x-python",
   "name": "python",
   "nbconvert_exporter": "python",
   "pygments_lexer": "ipython3",
   "version": "3.8.5"
  }
 },
 "nbformat": 4,
 "nbformat_minor": 4
}

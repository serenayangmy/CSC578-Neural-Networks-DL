{
 "cells": [
  {
   "cell_type": "markdown",
   "metadata": {},
   "source": [
    "## CSC 578 HW#4\n",
    "### Serena Yang"
   ]
  },
  {
   "cell_type": "markdown",
   "metadata": {
    "id": "MhoQ0WE77laV"
   },
   "source": [
    "##### Copyright 2018 The TensorFlow Authors."
   ]
  },
  {
   "cell_type": "code",
   "execution_count": 1,
   "metadata": {
    "cellView": "form",
    "execution": {
     "iopub.execute_input": "2020-10-15T01:28:48.690538Z",
     "iopub.status.busy": "2020-10-15T01:28:48.689438Z",
     "iopub.status.idle": "2020-10-15T01:28:48.692375Z",
     "shell.execute_reply": "2020-10-15T01:28:48.691811Z"
    },
    "id": "_ckMIh7O7s6D"
   },
   "outputs": [],
   "source": [
    "#@title Licensed under the Apache License, Version 2.0 (the \"License\");\n",
    "# you may not use this file except in compliance with the License.\n",
    "# You may obtain a copy of the License at\n",
    "#\n",
    "# https://www.apache.org/licenses/LICENSE-2.0\n",
    "#\n",
    "# Unless required by applicable law or agreed to in writing, software\n",
    "# distributed under the License is distributed on an \"AS IS\" BASIS,\n",
    "# WITHOUT WARRANTIES OR CONDITIONS OF ANY KIND, either express or implied.\n",
    "# See the License for the specific language governing permissions and\n",
    "# limitations under the License."
   ]
  },
  {
   "cell_type": "code",
   "execution_count": 2,
   "metadata": {
    "cellView": "form",
    "execution": {
     "iopub.execute_input": "2020-10-15T01:28:48.696906Z",
     "iopub.status.busy": "2020-10-15T01:28:48.695809Z",
     "iopub.status.idle": "2020-10-15T01:28:48.698639Z",
     "shell.execute_reply": "2020-10-15T01:28:48.697957Z"
    },
    "id": "vasWnqRgy1H4"
   },
   "outputs": [],
   "source": [
    "#@title MIT License\n",
    "#\n",
    "# Copyright (c) 2017 François Chollet\n",
    "#\n",
    "# Permission is hereby granted, free of charge, to any person obtaining a\n",
    "# copy of this software and associated documentation files (the \"Software\"),\n",
    "# to deal in the Software without restriction, including without limitation\n",
    "# the rights to use, copy, modify, merge, publish, distribute, sublicense,\n",
    "# and/or sell copies of the Software, and to permit persons to whom the\n",
    "# Software is furnished to do so, subject to the following conditions:\n",
    "#\n",
    "# The above copyright notice and this permission notice shall be included in\n",
    "# all copies or substantial portions of the Software.\n",
    "#\n",
    "# THE SOFTWARE IS PROVIDED \"AS IS\", WITHOUT WARRANTY OF ANY KIND, EXPRESS OR\n",
    "# IMPLIED, INCLUDING BUT NOT LIMITED TO THE WARRANTIES OF MERCHANTABILITY,\n",
    "# FITNESS FOR A PARTICULAR PURPOSE AND NONINFRINGEMENT. IN NO EVENT SHALL\n",
    "# THE AUTHORS OR COPYRIGHT HOLDERS BE LIABLE FOR ANY CLAIM, DAMAGES OR OTHER\n",
    "# LIABILITY, WHETHER IN AN ACTION OF CONTRACT, TORT OR OTHERWISE, ARISING\n",
    "# FROM, OUT OF OR IN CONNECTION WITH THE SOFTWARE OR THE USE OR OTHER\n",
    "# DEALINGS IN THE SOFTWARE."
   ]
  },
  {
   "cell_type": "markdown",
   "metadata": {
    "id": "jYysdyb-CaWM"
   },
   "source": [
    "# Basic classification: Classify images of clothing"
   ]
  },
  {
   "cell_type": "markdown",
   "metadata": {
    "id": "S5Uhzt6vVIB2"
   },
   "source": [
    "<table class=\"tfo-notebook-buttons\" align=\"left\">\n",
    "  <td>\n",
    "    <a target=\"_blank\" href=\"https://www.tensorflow.org/tutorials/keras/classification\"><img src=\"https://www.tensorflow.org/images/tf_logo_32px.png\" />View on TensorFlow.org</a>\n",
    "  </td>\n",
    "  <td>\n",
    "    <a target=\"_blank\" href=\"https://colab.research.google.com/github/tensorflow/docs/blob/master/site/en/tutorials/keras/classification.ipynb\"><img src=\"https://www.tensorflow.org/images/colab_logo_32px.png\" />Run in Google Colab</a>\n",
    "  </td>\n",
    "  <td>\n",
    "    <a target=\"_blank\" href=\"https://github.com/tensorflow/docs/blob/master/site/en/tutorials/keras/classification.ipynb\"><img src=\"https://www.tensorflow.org/images/GitHub-Mark-32px.png\" />View source on GitHub</a>\n",
    "  </td>\n",
    "  <td>\n",
    "    <a href=\"https://storage.googleapis.com/tensorflow_docs/docs/site/en/tutorials/keras/classification.ipynb\"><img src=\"https://www.tensorflow.org/images/download_logo_32px.png\" />Download notebook</a>\n",
    "  </td>\n",
    "</table>"
   ]
  },
  {
   "cell_type": "markdown",
   "metadata": {
    "id": "FbVhjPpzn6BM"
   },
   "source": [
    "This guide trains a neural network model to classify images of clothing, like sneakers and shirts. It's okay if you don't understand all the details; this is a fast-paced overview of a complete TensorFlow program with the details explained as you go.\n",
    "\n",
    "This guide uses [tf.keras](https://www.tensorflow.org/guide/keras), a high-level API to build and train models in TensorFlow."
   ]
  },
  {
   "cell_type": "code",
   "execution_count": 1,
   "metadata": {
    "execution": {
     "iopub.execute_input": "2020-10-15T01:28:48.704610Z",
     "iopub.status.busy": "2020-10-15T01:28:48.703507Z",
     "iopub.status.idle": "2020-10-15T01:28:54.941102Z",
     "shell.execute_reply": "2020-10-15T01:28:54.941516Z"
    },
    "id": "dzLKpmZICaWN"
   },
   "outputs": [
    {
     "name": "stderr",
     "output_type": "stream",
     "text": [
      "/Users/serenayang/opt/anaconda3/lib/python3.8/site-packages/requests/__init__.py:89: RequestsDependencyWarning: urllib3 (1.26.9) or chardet (3.0.4) doesn't match a supported version!\n",
      "  warnings.warn(\"urllib3 ({}) or chardet ({}) doesn't match a supported \"\n"
     ]
    },
    {
     "name": "stdout",
     "output_type": "stream",
     "text": [
      "2.7.0\n"
     ]
    }
   ],
   "source": [
    "# TensorFlow and tf.keras\n",
    "import tensorflow as tf\n",
    "\n",
    "# Helper libraries\n",
    "import numpy as np\n",
    "import matplotlib.pyplot as plt\n",
    "\n",
    "print(tf.__version__)"
   ]
  },
  {
   "cell_type": "markdown",
   "metadata": {
    "id": "yR0EdgrLCaWR"
   },
   "source": [
    "## Import the Fashion MNIST dataset"
   ]
  },
  {
   "cell_type": "markdown",
   "metadata": {
    "id": "DLdCchMdCaWQ"
   },
   "source": [
    "This guide uses the [Fashion MNIST](https://github.com/zalandoresearch/fashion-mnist) dataset which contains 70,000 grayscale images in 10 categories. The images show individual articles of clothing at low resolution (28 by 28 pixels), as seen here:\n",
    "\n",
    "<table>\n",
    "  <tr><td>\n",
    "    <img src=\"https://tensorflow.org/images/fashion-mnist-sprite.png\"\n",
    "         alt=\"Fashion MNIST sprite\"  width=\"600\">\n",
    "  </td></tr>\n",
    "  <tr><td align=\"center\">\n",
    "    <b>Figure 1.</b> <a href=\"https://github.com/zalandoresearch/fashion-mnist\">Fashion-MNIST samples</a> (by Zalando, MIT License).<br/>&nbsp;\n",
    "  </td></tr>\n",
    "</table>\n",
    "\n",
    "Fashion MNIST is intended as a drop-in replacement for the classic [MNIST](http://yann.lecun.com/exdb/mnist/) dataset—often used as the \"Hello, World\" of machine learning programs for computer vision. The MNIST dataset contains images of handwritten digits (0, 1, 2, etc.) in a format identical to that of the articles of clothing you'll use here.\n",
    "\n",
    "This guide uses Fashion MNIST for variety, and because it's a slightly more challenging problem than regular MNIST. Both datasets are relatively small and are used to verify that an algorithm works as expected. They're good starting points to test and debug code.\n",
    "\n",
    "Here, 60,000 images are used to train the network and 10,000 images to evaluate how accurately the network learned to classify images. You can access the Fashion MNIST directly from TensorFlow. Import and load the Fashion MNIST data directly from TensorFlow:"
   ]
  },
  {
   "cell_type": "code",
   "execution_count": 2,
   "metadata": {
    "execution": {
     "iopub.execute_input": "2020-10-15T01:28:54.947431Z",
     "iopub.status.busy": "2020-10-15T01:28:54.945758Z",
     "iopub.status.idle": "2020-10-15T01:28:55.921866Z",
     "shell.execute_reply": "2020-10-15T01:28:55.920987Z"
    },
    "id": "7MqDQO0KCaWS"
   },
   "outputs": [],
   "source": [
    "fashion_mnist = tf.keras.datasets.fashion_mnist\n",
    "\n",
    "(train_images, train_labels), (test_images, test_labels) = fashion_mnist.load_data()"
   ]
  },
  {
   "cell_type": "markdown",
   "metadata": {
    "id": "t9FDsUlxCaWW"
   },
   "source": [
    "Loading the dataset returns four NumPy arrays:\n",
    "\n",
    "* The `train_images` and `train_labels` arrays are the *training set*—the data the model uses to learn.\n",
    "* The model is tested against the *test set*, the `test_images`, and `test_labels` arrays.\n",
    "\n",
    "The images are 28x28 NumPy arrays, with pixel values ranging from 0 to 255. The *labels* are an array of integers, ranging from 0 to 9. These correspond to the *class* of clothing the image represents:\n",
    "\n",
    "<table>\n",
    "  <tr>\n",
    "    <th>Label</th>\n",
    "    <th>Class</th>\n",
    "  </tr>\n",
    "  <tr>\n",
    "    <td>0</td>\n",
    "    <td>T-shirt/top</td>\n",
    "  </tr>\n",
    "  <tr>\n",
    "    <td>1</td>\n",
    "    <td>Trouser</td>\n",
    "  </tr>\n",
    "    <tr>\n",
    "    <td>2</td>\n",
    "    <td>Pullover</td>\n",
    "  </tr>\n",
    "    <tr>\n",
    "    <td>3</td>\n",
    "    <td>Dress</td>\n",
    "  </tr>\n",
    "    <tr>\n",
    "    <td>4</td>\n",
    "    <td>Coat</td>\n",
    "  </tr>\n",
    "    <tr>\n",
    "    <td>5</td>\n",
    "    <td>Sandal</td>\n",
    "  </tr>\n",
    "    <tr>\n",
    "    <td>6</td>\n",
    "    <td>Shirt</td>\n",
    "  </tr>\n",
    "    <tr>\n",
    "    <td>7</td>\n",
    "    <td>Sneaker</td>\n",
    "  </tr>\n",
    "    <tr>\n",
    "    <td>8</td>\n",
    "    <td>Bag</td>\n",
    "  </tr>\n",
    "    <tr>\n",
    "    <td>9</td>\n",
    "    <td>Ankle boot</td>\n",
    "  </tr>\n",
    "</table>\n",
    "\n",
    "Each image is mapped to a single label. Since the *class names* are not included with the dataset, store them here to use later when plotting the images:"
   ]
  },
  {
   "cell_type": "code",
   "execution_count": 3,
   "metadata": {
    "execution": {
     "iopub.execute_input": "2020-10-15T01:28:55.927038Z",
     "iopub.status.busy": "2020-10-15T01:28:55.926055Z",
     "iopub.status.idle": "2020-10-15T01:28:55.928759Z",
     "shell.execute_reply": "2020-10-15T01:28:55.928121Z"
    },
    "id": "IjnLH5S2CaWx"
   },
   "outputs": [],
   "source": [
    "class_names = ['T-shirt/top', 'Trouser', 'Pullover', 'Dress', 'Coat',\n",
    "               'Sandal', 'Shirt', 'Sneaker', 'Bag', 'Ankle boot']"
   ]
  },
  {
   "cell_type": "markdown",
   "metadata": {
    "id": "Brm0b_KACaWX"
   },
   "source": [
    "## Explore the data\n",
    "\n",
    "Let's explore the format of the dataset before training the model. The following shows there are 60,000 images in the training set, with each image represented as 28 x 28 pixels:"
   ]
  },
  {
   "cell_type": "code",
   "execution_count": 4,
   "metadata": {
    "execution": {
     "iopub.execute_input": "2020-10-15T01:28:55.934510Z",
     "iopub.status.busy": "2020-10-15T01:28:55.933579Z",
     "iopub.status.idle": "2020-10-15T01:28:55.937673Z",
     "shell.execute_reply": "2020-10-15T01:28:55.938105Z"
    },
    "id": "zW5k_xz1CaWX"
   },
   "outputs": [
    {
     "data": {
      "text/plain": [
       "(60000, 28, 28)"
      ]
     },
     "execution_count": 4,
     "metadata": {},
     "output_type": "execute_result"
    }
   ],
   "source": [
    "train_images.shape"
   ]
  },
  {
   "cell_type": "markdown",
   "metadata": {
    "id": "cIAcvQqMCaWf"
   },
   "source": [
    "Likewise, there are 60,000 labels in the training set:"
   ]
  },
  {
   "cell_type": "code",
   "execution_count": 5,
   "metadata": {
    "execution": {
     "iopub.execute_input": "2020-10-15T01:28:55.942785Z",
     "iopub.status.busy": "2020-10-15T01:28:55.941935Z",
     "iopub.status.idle": "2020-10-15T01:28:55.945134Z",
     "shell.execute_reply": "2020-10-15T01:28:55.945674Z"
    },
    "id": "TRFYHB2mCaWb"
   },
   "outputs": [
    {
     "data": {
      "text/plain": [
       "60000"
      ]
     },
     "execution_count": 5,
     "metadata": {},
     "output_type": "execute_result"
    }
   ],
   "source": [
    "len(train_labels)"
   ]
  },
  {
   "cell_type": "markdown",
   "metadata": {
    "id": "YSlYxFuRCaWk"
   },
   "source": [
    "Each label is an integer between 0 and 9:"
   ]
  },
  {
   "cell_type": "code",
   "execution_count": 6,
   "metadata": {
    "execution": {
     "iopub.execute_input": "2020-10-15T01:28:55.950046Z",
     "iopub.status.busy": "2020-10-15T01:28:55.949289Z",
     "iopub.status.idle": "2020-10-15T01:28:55.952794Z",
     "shell.execute_reply": "2020-10-15T01:28:55.952207Z"
    },
    "id": "XKnCTHz4CaWg"
   },
   "outputs": [
    {
     "data": {
      "text/plain": [
       "array([9, 0, 0, ..., 3, 0, 5], dtype=uint8)"
      ]
     },
     "execution_count": 6,
     "metadata": {},
     "output_type": "execute_result"
    }
   ],
   "source": [
    "train_labels.shape\n",
    "train_labels"
   ]
  },
  {
   "cell_type": "markdown",
   "metadata": {
    "id": "TMPI88iZpO2T"
   },
   "source": [
    "There are 10,000 images in the test set. Again, each image is represented as 28 x 28 pixels:"
   ]
  },
  {
   "cell_type": "code",
   "execution_count": 7,
   "metadata": {
    "execution": {
     "iopub.execute_input": "2020-10-15T01:28:55.957082Z",
     "iopub.status.busy": "2020-10-15T01:28:55.956303Z",
     "iopub.status.idle": "2020-10-15T01:28:55.959375Z",
     "shell.execute_reply": "2020-10-15T01:28:55.959771Z"
    },
    "id": "2KFnYlcwCaWl"
   },
   "outputs": [
    {
     "data": {
      "text/plain": [
       "(10000, 28, 28)"
      ]
     },
     "execution_count": 7,
     "metadata": {},
     "output_type": "execute_result"
    }
   ],
   "source": [
    "test_images.shape"
   ]
  },
  {
   "cell_type": "markdown",
   "metadata": {
    "id": "rd0A0Iu0CaWq"
   },
   "source": [
    "And the test set contains 10,000 images labels:"
   ]
  },
  {
   "cell_type": "code",
   "execution_count": 8,
   "metadata": {
    "execution": {
     "iopub.execute_input": "2020-10-15T01:28:55.963873Z",
     "iopub.status.busy": "2020-10-15T01:28:55.963023Z",
     "iopub.status.idle": "2020-10-15T01:28:55.966085Z",
     "shell.execute_reply": "2020-10-15T01:28:55.966508Z"
    },
    "id": "iJmPr5-ACaWn"
   },
   "outputs": [
    {
     "data": {
      "text/plain": [
       "10000"
      ]
     },
     "execution_count": 8,
     "metadata": {},
     "output_type": "execute_result"
    }
   ],
   "source": [
    "len(test_labels)"
   ]
  },
  {
   "cell_type": "markdown",
   "metadata": {
    "id": "ES6uQoLKCaWr"
   },
   "source": [
    "## Preprocess the data\n",
    "\n",
    "The data must be preprocessed before training the network. If you inspect the first image in the training set, you will see that the pixel values fall in the range of 0 to 255:"
   ]
  },
  {
   "cell_type": "code",
   "execution_count": 9,
   "metadata": {
    "execution": {
     "iopub.execute_input": "2020-10-15T01:28:55.984523Z",
     "iopub.status.busy": "2020-10-15T01:28:55.983443Z",
     "iopub.status.idle": "2020-10-15T01:28:56.147713Z",
     "shell.execute_reply": "2020-10-15T01:28:56.147090Z"
    },
    "id": "m4VEw8Ud9Quh"
   },
   "outputs": [
    {
     "data": {
      "image/png": "[encoded data removed]",
      "text/plain": [
       "<Figure size 432x288 with 2 Axes>"
      ]
     },
     "metadata": {
      "needs_background": "light"
     },
     "output_type": "display_data"
    }
   ],
   "source": [
    "plt.figure()\n",
    "plt.imshow(train_images[0])\n",
    "plt.colorbar()\n",
    "plt.grid(False)\n",
    "plt.show()"
   ]
  },
  {
   "cell_type": "markdown",
   "metadata": {
    "id": "Wz7l27Lz9S1P"
   },
   "source": [
    "Scale these values to a range of 0 to 1 before feeding them to the neural network model. To do so, divide the values by 255. It's important that the *training set* and the *testing set* be preprocessed in the same way:"
   ]
  },
  {
   "cell_type": "code",
   "execution_count": 10,
   "metadata": {
    "execution": {
     "iopub.execute_input": "2020-10-15T01:28:56.152920Z",
     "iopub.status.busy": "2020-10-15T01:28:56.151644Z",
     "iopub.status.idle": "2020-10-15T01:28:56.309548Z",
     "shell.execute_reply": "2020-10-15T01:28:56.310021Z"
    },
    "id": "bW5WzIPlCaWv"
   },
   "outputs": [],
   "source": [
    "train_images = train_images / 255.0\n",
    "\n",
    "test_images = test_images / 255.0"
   ]
  },
  {
   "cell_type": "markdown",
   "metadata": {
    "id": "Ee638AlnCaWz"
   },
   "source": [
    "To verify that the data is in the correct format and that you're ready to build and train the network, let's display the first 25 images from the *training set* and display the class name below each image."
   ]
  },
  {
   "cell_type": "code",
   "execution_count": 11,
   "metadata": {
    "execution": {
     "iopub.execute_input": "2020-10-15T01:28:56.350855Z",
     "iopub.status.busy": "2020-10-15T01:28:56.327945Z",
     "iopub.status.idle": "2020-10-15T01:28:57.224132Z",
     "shell.execute_reply": "2020-10-15T01:28:57.224604Z"
    },
    "id": "oZTImqg_CaW1"
   },
   "outputs": [
    {
     "data": {
      "image/png": "[encoded data removed]",
      "text/plain": [
       "<Figure size 720x720 with 25 Axes>"
      ]
     },
     "metadata": {},
     "output_type": "display_data"
    }
   ],
   "source": [
    "plt.figure(figsize=(10,10))\n",
    "for i in range(25):\n",
    "    plt.subplot(5,5,i+1)\n",
    "    plt.xticks([])\n",
    "    plt.yticks([])\n",
    "    plt.grid(False)\n",
    "    plt.imshow(train_images[i], cmap=plt.cm.binary)\n",
    "    plt.xlabel(class_names[train_labels[i]])\n",
    "plt.show()"
   ]
  },
  {
   "cell_type": "markdown",
   "metadata": {
    "id": "59veuiEZCaW4"
   },
   "source": [
    "## Build the model\n",
    "\n",
    "Building the neural network requires configuring the layers of the model, then compiling the model."
   ]
  },
  {
   "cell_type": "markdown",
   "metadata": {
    "id": "Gxg1XGm0eOBy"
   },
   "source": [
    "### Set up the layers\n",
    "\n",
    "The basic building block of a neural network is the *layer*. Layers extract representations from the data fed into them. Hopefully, these representations are meaningful for the problem at hand.\n",
    "\n",
    "Most of deep learning consists of chaining together simple layers. Most layers, such as `tf.keras.layers.Dense`, have parameters that are learned during training."
   ]
  },
  {
   "cell_type": "code",
   "execution_count": 12,
   "metadata": {
    "execution": {
     "iopub.execute_input": "2020-10-15T01:28:57.230757Z",
     "iopub.status.busy": "2020-10-15T01:28:57.229590Z",
     "iopub.status.idle": "2020-10-15T01:28:58.945316Z",
     "shell.execute_reply": "2020-10-15T01:28:58.944694Z"
    },
    "id": "9ODch-OFCaW4"
   },
   "outputs": [],
   "source": [
    "model = tf.keras.Sequential([\n",
    "    tf.keras.layers.Flatten(input_shape=(28, 28)),\n",
    "    tf.keras.layers.Dense(128, activation='relu'),\n",
    "    tf.keras.layers.Dense(10)\n",
    "])"
   ]
  },
  {
   "cell_type": "markdown",
   "metadata": {
    "id": "gut8A_7rCaW6"
   },
   "source": [
    "The first layer in this network, `tf.keras.layers.Flatten`, transforms the format of the images from a two-dimensional array (of 28 by 28 pixels) to a one-dimensional array (of 28 * 28 = 784 pixels). Think of this layer as unstacking rows of pixels in the image and lining them up. This layer has no parameters to learn; it only reformats the data.\n",
    "\n",
    "After the pixels are flattened, the network consists of a sequence of two `tf.keras.layers.Dense` layers. These are densely connected, or fully connected, neural layers. The first `Dense` layer has 128 nodes (or neurons). The second (and last) layer returns a logits array with length of 10. Each node contains a score that indicates the current image belongs to one of the 10 classes.\n",
    "\n",
    "### Compile the model\n",
    "\n",
    "Before the model is ready for training, it needs a few more settings. These are added during the model's *compile* step:\n",
    "\n",
    "* *Loss function* —This measures how accurate the model is during training. You want to minimize this function to \"steer\" the model in the right direction.\n",
    "* *Optimizer* —This is how the model is updated based on the data it sees and its loss function.\n",
    "* *Metrics* —Used to monitor the training and testing steps. The following example uses *accuracy*, the fraction of the images that are correctly classified."
   ]
  },
  {
   "cell_type": "code",
   "execution_count": 13,
   "metadata": {
    "execution": {
     "iopub.execute_input": "2020-10-15T01:28:58.958392Z",
     "iopub.status.busy": "2020-10-15T01:28:58.957188Z",
     "iopub.status.idle": "2020-10-15T01:28:58.965695Z",
     "shell.execute_reply": "2020-10-15T01:28:58.966131Z"
    },
    "id": "Lhan11blCaW7"
   },
   "outputs": [],
   "source": [
    "model.compile(optimizer='adam',\n",
    "              loss=tf.keras.losses.SparseCategoricalCrossentropy(from_logits=True),\n",
    "              metrics=['accuracy'])"
   ]
  },
  {
   "cell_type": "markdown",
   "metadata": {
    "id": "qKF6uW-BCaW-"
   },
   "source": [
    "## Train the model\n",
    "\n",
    "Training the neural network model requires the following steps:\n",
    "\n",
    "1. Feed the training data to the model. In this example, the training data is in the `train_images` and `train_labels` arrays.\n",
    "2. The model learns to associate images and labels.\n",
    "3. You ask the model to make predictions about a test set—in this example, the `test_images` array.\n",
    "4. Verify that the predictions match the labels from the `test_labels` array.\n"
   ]
  },
  {
   "cell_type": "markdown",
   "metadata": {
    "id": "Z4P4zIV7E28Z"
   },
   "source": [
    "### Feed the model\n",
    "\n",
    "To start training,  call the `model.fit` method—so called because it \"fits\" the model to the training data:"
   ]
  },
  {
   "cell_type": "code",
   "execution_count": 14,
   "metadata": {
    "execution": {
     "iopub.execute_input": "2020-10-15T01:28:58.972129Z",
     "iopub.status.busy": "2020-10-15T01:28:58.971103Z",
     "iopub.status.idle": "2020-10-15T01:29:28.207307Z",
     "shell.execute_reply": "2020-10-15T01:29:28.206660Z"
    },
    "id": "xvwvpA64CaW_",
    "scrolled": true
   },
   "outputs": [
    {
     "name": "stdout",
     "output_type": "stream",
     "text": [
      "Epoch 1/10\n",
      "1875/1875 [==============================] - 2s 920us/step - loss: 0.5014 - accuracy: 0.8249\n",
      "Epoch 2/10\n",
      "1875/1875 [==============================] - 2s 958us/step - loss: 0.3765 - accuracy: 0.8641\n",
      "Epoch 3/10\n",
      "1875/1875 [==============================] - 2s 920us/step - loss: 0.3370 - accuracy: 0.8750\n",
      "Epoch 4/10\n",
      "1875/1875 [==============================] - 2s 864us/step - loss: 0.3133 - accuracy: 0.8844\n",
      "Epoch 5/10\n",
      "1875/1875 [==============================] - 2s 839us/step - loss: 0.2919 - accuracy: 0.8924\n",
      "Epoch 6/10\n",
      "1875/1875 [==============================] - 2s 859us/step - loss: 0.2797 - accuracy: 0.8957\n",
      "Epoch 7/10\n",
      "1875/1875 [==============================] - 2s 847us/step - loss: 0.2667 - accuracy: 0.9004\n",
      "Epoch 8/10\n",
      "1875/1875 [==============================] - 2s 859us/step - loss: 0.2555 - accuracy: 0.9043\n",
      "Epoch 9/10\n",
      "1875/1875 [==============================] - 2s 851us/step - loss: 0.2456 - accuracy: 0.9061\n",
      "Epoch 10/10\n",
      "1875/1875 [==============================] - 2s 978us/step - loss: 0.2368 - accuracy: 0.9112\n"
     ]
    },
    {
     "data": {
      "text/plain": [
       "<keras.callbacks.History at 0x7ff5ad664250>"
      ]
     },
     "execution_count": 14,
     "metadata": {},
     "output_type": "execute_result"
    }
   ],
   "source": [
    "model.fit(train_images, train_labels, epochs=10)\n"
   ]
  },
  {
   "cell_type": "markdown",
   "metadata": {
    "id": "W3ZVOhugCaXA"
   },
   "source": [
    "As the model trains, the loss and accuracy metrics are displayed. This model reaches an accuracy of about 0.91 (or 91%) on the training data."
   ]
  },
  {
   "cell_type": "markdown",
   "metadata": {
    "id": "wCpr6DGyE28h"
   },
   "source": [
    "### Evaluate accuracy\n",
    "\n",
    "Next, compare how the model performs on the test dataset:"
   ]
  },
  {
   "cell_type": "code",
   "execution_count": 15,
   "metadata": {
    "execution": {
     "iopub.execute_input": "2020-10-15T01:29:28.212489Z",
     "iopub.status.busy": "2020-10-15T01:29:28.211852Z",
     "iopub.status.idle": "2020-10-15T01:29:28.957935Z",
     "shell.execute_reply": "2020-10-15T01:29:28.957398Z"
    },
    "id": "VflXLEeECaXC"
   },
   "outputs": [
    {
     "name": "stdout",
     "output_type": "stream",
     "text": [
      "313/313 - 0s - loss: 0.3353 - accuracy: 0.8810 - 278ms/epoch - 888us/step\n",
      "\n",
      "Test accuracy: 0.8809999823570251\n"
     ]
    }
   ],
   "source": [
    "test_loss, test_acc = model.evaluate(test_images,  test_labels, verbose=2)\n",
    "\n",
    "print('\\nTest accuracy:', test_acc)"
   ]
  },
  {
   "cell_type": "markdown",
   "metadata": {
    "id": "yWfgsmVXCaXG"
   },
   "source": [
    "It turns out that the accuracy on the test dataset is a little less than the accuracy on the training dataset. This gap between training accuracy and test accuracy represents *overfitting*. Overfitting happens when a machine learning model performs worse on new, previously unseen inputs than it does on the training data. An overfitted model \"memorizes\" the noise and details in the training dataset to a point where it negatively impacts the performance of the model on the new data. For more information, see the following:\n",
    "*   [Demonstrate overfitting](https://www.tensorflow.org/tutorials/keras/overfit_and_underfit#demonstrate_overfitting)\n",
    "*   [Strategies to prevent overfitting](https://www.tensorflow.org/tutorials/keras/overfit_and_underfit#strategies_to_prevent_overfitting)"
   ]
  },
  {
   "cell_type": "markdown",
   "metadata": {
    "id": "v-PyD1SYE28q"
   },
   "source": [
    "### Make predictions\n",
    "\n",
    "With the model trained, you can use it to make predictions about some images.\n",
    "The model's linear outputs, [logits](https://developers.google.com/machine-learning/glossary#logits). Attach a softmax layer to convert the logits to probabilities, which are easier to interpret. "
   ]
  },
  {
   "cell_type": "code",
   "execution_count": 16,
   "metadata": {
    "execution": {
     "iopub.execute_input": "2020-10-15T01:29:28.964739Z",
     "iopub.status.busy": "2020-10-15T01:29:28.964119Z",
     "iopub.status.idle": "2020-10-15T01:29:28.977816Z",
     "shell.execute_reply": "2020-10-15T01:29:28.977317Z"
    },
    "id": "DnfNA0CrQLSD"
   },
   "outputs": [],
   "source": [
    "probability_model = tf.keras.Sequential([model, \n",
    "                                         tf.keras.layers.Softmax()])"
   ]
  },
  {
   "cell_type": "code",
   "execution_count": 17,
   "metadata": {
    "execution": {
     "iopub.execute_input": "2020-10-15T01:29:28.981879Z",
     "iopub.status.busy": "2020-10-15T01:29:28.981269Z",
     "iopub.status.idle": "2020-10-15T01:29:29.358175Z",
     "shell.execute_reply": "2020-10-15T01:29:29.357478Z"
    },
    "id": "Gl91RPhdCaXI"
   },
   "outputs": [],
   "source": [
    "predictions = probability_model.predict(test_images)"
   ]
  },
  {
   "cell_type": "markdown",
   "metadata": {
    "id": "x9Kk1voUCaXJ"
   },
   "source": [
    "Here, the model has predicted the label for each image in the testing set. Let's take a look at the first prediction:"
   ]
  },
  {
   "cell_type": "code",
   "execution_count": 18,
   "metadata": {
    "execution": {
     "iopub.execute_input": "2020-10-15T01:29:29.363537Z",
     "iopub.status.busy": "2020-10-15T01:29:29.362894Z",
     "iopub.status.idle": "2020-10-15T01:29:29.366418Z",
     "shell.execute_reply": "2020-10-15T01:29:29.365810Z"
    },
    "id": "3DmJEUinCaXK"
   },
   "outputs": [
    {
     "data": {
      "text/plain": [
       "array([4.2763881e-07, 4.2222334e-10, 5.4957425e-09, 4.4166875e-12,\n",
       "       3.7287441e-07, 7.6048617e-04, 1.4907696e-08, 5.2110641e-03,\n",
       "       8.5687084e-09, 9.9402761e-01], dtype=float32)"
      ]
     },
     "execution_count": 18,
     "metadata": {},
     "output_type": "execute_result"
    }
   ],
   "source": [
    "predictions[0]"
   ]
  },
  {
   "cell_type": "markdown",
   "metadata": {
    "id": "-hw1hgeSCaXN"
   },
   "source": [
    "A prediction is an array of 10 numbers. They represent the model's \"confidence\" that the image corresponds to each of the 10 different articles of clothing. You can see which label has the highest confidence value:"
   ]
  },
  {
   "cell_type": "code",
   "execution_count": 19,
   "metadata": {
    "execution": {
     "iopub.execute_input": "2020-10-15T01:29:29.370858Z",
     "iopub.status.busy": "2020-10-15T01:29:29.370189Z",
     "iopub.status.idle": "2020-10-15T01:29:29.373719Z",
     "shell.execute_reply": "2020-10-15T01:29:29.373242Z"
    },
    "id": "qsqenuPnCaXO"
   },
   "outputs": [
    {
     "data": {
      "text/plain": [
       "9"
      ]
     },
     "execution_count": 19,
     "metadata": {},
     "output_type": "execute_result"
    }
   ],
   "source": [
    "np.argmax(predictions[0])"
   ]
  },
  {
   "cell_type": "markdown",
   "metadata": {
    "id": "E51yS7iCCaXO"
   },
   "source": [
    "So, the model is most confident that this image is an ankle boot, or `class_names[9]`. Examining the test label shows that this classification is correct:"
   ]
  },
  {
   "cell_type": "code",
   "execution_count": 20,
   "metadata": {
    "execution": {
     "iopub.execute_input": "2020-10-15T01:29:29.377805Z",
     "iopub.status.busy": "2020-10-15T01:29:29.377134Z",
     "iopub.status.idle": "2020-10-15T01:29:29.380679Z",
     "shell.execute_reply": "2020-10-15T01:29:29.380090Z"
    },
    "id": "Sd7Pgsu6CaXP"
   },
   "outputs": [
    {
     "data": {
      "text/plain": [
       "9"
      ]
     },
     "execution_count": 20,
     "metadata": {},
     "output_type": "execute_result"
    }
   ],
   "source": [
    "test_labels[0]"
   ]
  },
  {
   "cell_type": "markdown",
   "metadata": {
    "id": "ygh2yYC972ne"
   },
   "source": [
    "Graph this to look at the full set of 10 class predictions."
   ]
  },
  {
   "cell_type": "code",
   "execution_count": 21,
   "metadata": {
    "execution": {
     "iopub.execute_input": "2020-10-15T01:29:29.388527Z",
     "iopub.status.busy": "2020-10-15T01:29:29.387890Z",
     "iopub.status.idle": "2020-10-15T01:29:29.390338Z",
     "shell.execute_reply": "2020-10-15T01:29:29.389776Z"
    },
    "id": "DvYmmrpIy6Y1"
   },
   "outputs": [],
   "source": [
    "def plot_image(i, predictions_array, true_label, img):\n",
    "  true_label, img = true_label[i], img[i]\n",
    "  plt.grid(False)\n",
    "  plt.xticks([])\n",
    "  plt.yticks([])\n",
    "\n",
    "  plt.imshow(img, cmap=plt.cm.binary)\n",
    "\n",
    "  predicted_label = np.argmax(predictions_array)\n",
    "  if predicted_label == true_label:\n",
    "    color = 'blue'\n",
    "  else:\n",
    "    color = 'red'\n",
    "\n",
    "  plt.xlabel(\"{} {:2.0f}% ({})\".format(class_names[predicted_label],\n",
    "                                100*np.max(predictions_array),\n",
    "                                class_names[true_label]),\n",
    "                                color=color)\n",
    "\n",
    "def plot_value_array(i, predictions_array, true_label):\n",
    "  true_label = true_label[i]\n",
    "  plt.grid(False)\n",
    "  plt.xticks(range(10))\n",
    "  plt.yticks([])\n",
    "  thisplot = plt.bar(range(10), predictions_array, color=\"#777777\")\n",
    "  plt.ylim([0, 1])\n",
    "  predicted_label = np.argmax(predictions_array)\n",
    "\n",
    "  thisplot[predicted_label].set_color('red')\n",
    "  thisplot[true_label].set_color('blue')"
   ]
  },
  {
   "cell_type": "markdown",
   "metadata": {
    "id": "Zh9yABaME29S"
   },
   "source": [
    "### Verify predictions\n",
    "\n",
    "With the model trained, you can use it to make predictions about some images."
   ]
  },
  {
   "cell_type": "markdown",
   "metadata": {
    "id": "d4Ov9OFDMmOD"
   },
   "source": [
    "Let's look at the 0th image, predictions, and prediction array. Correct prediction labels are blue and incorrect prediction labels are red. The number gives the percentage (out of 100) for the predicted label."
   ]
  },
  {
   "cell_type": "code",
   "execution_count": 22,
   "metadata": {
    "execution": {
     "iopub.execute_input": "2020-10-15T01:29:29.407710Z",
     "iopub.status.busy": "2020-10-15T01:29:29.407060Z",
     "iopub.status.idle": "2020-10-15T01:29:29.522612Z",
     "shell.execute_reply": "2020-10-15T01:29:29.523065Z"
    },
    "id": "HV5jw-5HwSmO"
   },
   "outputs": [
    {
     "data": {
      "image/png": "[encoded data removed]",
      "text/plain": [
       "<Figure size 432x216 with 2 Axes>"
      ]
     },
     "metadata": {
      "needs_background": "light"
     },
     "output_type": "display_data"
    }
   ],
   "source": [
    "i = 0\n",
    "plt.figure(figsize=(6,3))\n",
    "plt.subplot(1,2,1)\n",
    "plot_image(i, predictions[i], test_labels, test_images)\n",
    "plt.subplot(1,2,2)\n",
    "plot_value_array(i, predictions[i],  test_labels)\n",
    "plt.show()"
   ]
  },
  {
   "cell_type": "code",
   "execution_count": 23,
   "metadata": {
    "execution": {
     "iopub.execute_input": "2020-10-15T01:29:29.539661Z",
     "iopub.status.busy": "2020-10-15T01:29:29.538497Z",
     "iopub.status.idle": "2020-10-15T01:29:29.655736Z",
     "shell.execute_reply": "2020-10-15T01:29:29.656108Z"
    },
    "id": "Ko-uzOufSCSe"
   },
   "outputs": [
    {
     "data": {
      "image/png": "[encoded data removed]",
      "text/plain": [
       "<Figure size 432x216 with 2 Axes>"
      ]
     },
     "metadata": {
      "needs_background": "light"
     },
     "output_type": "display_data"
    }
   ],
   "source": [
    "i = 12\n",
    "plt.figure(figsize=(6,3))\n",
    "plt.subplot(1,2,1)\n",
    "plot_image(i, predictions[i], test_labels, test_images)\n",
    "plt.subplot(1,2,2)\n",
    "plot_value_array(i, predictions[i],  test_labels)\n",
    "plt.show()"
   ]
  },
  {
   "cell_type": "markdown",
   "metadata": {
    "id": "kgdvGD52CaXR"
   },
   "source": [
    "Let's plot several images with their predictions. Note that the model can be wrong even when very confident."
   ]
  },
  {
   "cell_type": "code",
   "execution_count": 24,
   "metadata": {
    "execution": {
     "iopub.execute_input": "2020-10-15T01:29:29.679633Z",
     "iopub.status.busy": "2020-10-15T01:29:29.665430Z",
     "iopub.status.idle": "2020-10-15T01:29:31.579390Z",
     "shell.execute_reply": "2020-10-15T01:29:31.579841Z"
    },
    "id": "hQlnbqaw2Qu_"
   },
   "outputs": [
    {
     "data": {
      "image/png": "[encoded data removed]",
      "text/plain": [
       "<Figure size 864x720 with 30 Axes>"
      ]
     },
     "metadata": {
      "needs_background": "light"
     },
     "output_type": "display_data"
    }
   ],
   "source": [
    "# Plot the first X test images, their predicted labels, and the true labels.\n",
    "# Color correct predictions in blue and incorrect predictions in red.\n",
    "num_rows = 5\n",
    "num_cols = 3\n",
    "num_images = num_rows*num_cols\n",
    "plt.figure(figsize=(2*2*num_cols, 2*num_rows))\n",
    "for i in range(num_images):\n",
    "  plt.subplot(num_rows, 2*num_cols, 2*i+1)\n",
    "  plot_image(i, predictions[i], test_labels, test_images)\n",
    "  plt.subplot(num_rows, 2*num_cols, 2*i+2)\n",
    "  plot_value_array(i, predictions[i], test_labels)\n",
    "plt.tight_layout()\n",
    "plt.show()"
   ]
  },
  {
   "cell_type": "markdown",
   "metadata": {
    "id": "R32zteKHCaXT"
   },
   "source": [
    "## Use the trained model\n",
    "\n",
    "Finally, use the trained model to make a prediction about a single image."
   ]
  },
  {
   "cell_type": "code",
   "execution_count": 25,
   "metadata": {
    "execution": {
     "iopub.execute_input": "2020-10-15T01:29:31.584662Z",
     "iopub.status.busy": "2020-10-15T01:29:31.583984Z",
     "iopub.status.idle": "2020-10-15T01:29:31.586277Z",
     "shell.execute_reply": "2020-10-15T01:29:31.586760Z"
    },
    "id": "yRJ7JU7JCaXT"
   },
   "outputs": [
    {
     "name": "stdout",
     "output_type": "stream",
     "text": [
      "(28, 28)\n"
     ]
    }
   ],
   "source": [
    "# Grab an image from the test dataset.\n",
    "img = test_images[1]\n",
    "\n",
    "print(img.shape)"
   ]
  },
  {
   "cell_type": "markdown",
   "metadata": {
    "id": "vz3bVp21CaXV"
   },
   "source": [
    "`tf.keras` models are optimized to make predictions on a *batch*, or collection, of examples at once. Accordingly, even though you're using a single image, you need to add it to a list:"
   ]
  },
  {
   "cell_type": "code",
   "execution_count": 26,
   "metadata": {
    "execution": {
     "iopub.execute_input": "2020-10-15T01:29:31.591301Z",
     "iopub.status.busy": "2020-10-15T01:29:31.590656Z",
     "iopub.status.idle": "2020-10-15T01:29:31.592794Z",
     "shell.execute_reply": "2020-10-15T01:29:31.593208Z"
    },
    "id": "lDFh5yF_CaXW"
   },
   "outputs": [
    {
     "name": "stdout",
     "output_type": "stream",
     "text": [
      "(1, 28, 28)\n"
     ]
    }
   ],
   "source": [
    "# Add the image to a batch where it's the only member.\n",
    "img = (np.expand_dims(img,0))\n",
    "\n",
    "print(img.shape)"
   ]
  },
  {
   "cell_type": "markdown",
   "metadata": {
    "id": "EQ5wLTkcCaXY"
   },
   "source": [
    "Now predict the correct label for this image:"
   ]
  },
  {
   "cell_type": "code",
   "execution_count": 27,
   "metadata": {
    "execution": {
     "iopub.execute_input": "2020-10-15T01:29:31.597886Z",
     "iopub.status.busy": "2020-10-15T01:29:31.597206Z",
     "iopub.status.idle": "2020-10-15T01:29:31.633314Z",
     "shell.execute_reply": "2020-10-15T01:29:31.632699Z"
    },
    "id": "o_rzNSdrCaXY"
   },
   "outputs": [
    {
     "name": "stdout",
     "output_type": "stream",
     "text": [
      "[[4.1825162e-05 9.0355685e-13 9.9794573e-01 1.8211811e-11 1.7059841e-03\n",
      "  5.8520841e-11 3.0646424e-04 1.8356310e-13 2.2931163e-08 1.0929473e-12]]\n"
     ]
    }
   ],
   "source": [
    "predictions_single = probability_model.predict(img)\n",
    "\n",
    "print(predictions_single)"
   ]
  },
  {
   "cell_type": "code",
   "execution_count": 28,
   "metadata": {
    "execution": {
     "iopub.execute_input": "2020-10-15T01:29:31.665435Z",
     "iopub.status.busy": "2020-10-15T01:29:31.657875Z",
     "iopub.status.idle": "2020-10-15T01:29:31.739346Z",
     "shell.execute_reply": "2020-10-15T01:29:31.738715Z"
    },
    "id": "6Ai-cpLjO-3A"
   },
   "outputs": [
    {
     "data": {
      "image/png": "[encoded data removed]",
      "text/plain": [
       "<Figure size 432x288 with 1 Axes>"
      ]
     },
     "metadata": {
      "needs_background": "light"
     },
     "output_type": "display_data"
    }
   ],
   "source": [
    "plot_value_array(1, predictions_single[0], test_labels)\n",
    "_ = plt.xticks(range(10), class_names, rotation=45)"
   ]
  },
  {
   "cell_type": "markdown",
   "metadata": {
    "id": "cU1Y2OAMCaXb"
   },
   "source": [
    "`tf.keras.Model.predict` returns a list of lists—one list for each image in the batch of data. Grab the predictions for our (only) image in the batch:"
   ]
  },
  {
   "cell_type": "code",
   "execution_count": 29,
   "metadata": {
    "execution": {
     "iopub.execute_input": "2020-10-15T01:29:31.744362Z",
     "iopub.status.busy": "2020-10-15T01:29:31.743639Z",
     "iopub.status.idle": "2020-10-15T01:29:31.747116Z",
     "shell.execute_reply": "2020-10-15T01:29:31.746537Z"
    },
    "id": "2tRmdq_8CaXb"
   },
   "outputs": [
    {
     "data": {
      "text/plain": [
       "2"
      ]
     },
     "execution_count": 29,
     "metadata": {},
     "output_type": "execute_result"
    }
   ],
   "source": [
    "np.argmax(predictions_single[0])"
   ]
  },
  {
   "cell_type": "markdown",
   "metadata": {
    "id": "YFc2HbEVCaXd"
   },
   "source": [
    "And the model predicts a label as expected."
   ]
  },
  {
   "cell_type": "markdown",
   "metadata": {},
   "source": [
    "# Part 4.2 and 4.3\n",
    "I first ran various model configurations and hyperparameter values and examined their effects on learning.  For this purpose, I experimented with the following parameters."
   ]
  },
  {
   "cell_type": "markdown",
   "metadata": {},
   "source": [
    "## Experiment 1 - Number of nodes in hidden layers"
   ]
  },
  {
   "cell_type": "markdown",
   "metadata": {},
   "source": [
    "I have experimented with different numbers of hidden. For the first attempt, I put half of the original nodes, which is 64, the second and last attempts were 256 and 320.\n",
    "The results showed that doubling the nodes didn’t improve the time, but it did increase the accuracy for both the train and test. Moreover, lowering the nodes does not improve the prediction or train accuracy of the model. However, the model runs much faster. So I would choose the original number of nodes as It was not a big difference in accuracy and run time by decreasing and increasing the number of nodes.\n"
   ]
  },
  {
   "cell_type": "code",
   "execution_count": 32,
   "metadata": {
    "scrolled": false
   },
   "outputs": [
    {
     "name": "stdout",
     "output_type": "stream",
     "text": [
      "Epoch 1/10\n",
      "1875/1875 [==============================] - 2s 885us/step - loss: 0.5214 - accuracy: 0.8182\n",
      "Epoch 2/10\n",
      "1875/1875 [==============================] - 2s 979us/step - loss: 0.3934 - accuracy: 0.8591\n",
      "Epoch 3/10\n",
      "1875/1875 [==============================] - 2s 932us/step - loss: 0.3574 - accuracy: 0.8708\n",
      "Epoch 4/10\n",
      "1875/1875 [==============================] - 2s 855us/step - loss: 0.3317 - accuracy: 0.8791\n",
      "Epoch 5/10\n",
      "1875/1875 [==============================] - 2s 829us/step - loss: 0.3149 - accuracy: 0.8848\n",
      "Epoch 6/10\n",
      "1875/1875 [==============================] - 2s 1ms/step - loss: 0.3003 - accuracy: 0.8893\n",
      "Epoch 7/10\n",
      "1875/1875 [==============================] - 2s 965us/step - loss: 0.2870 - accuracy: 0.8940\n",
      "Epoch 8/10\n",
      "1875/1875 [==============================] - 2s 1ms/step - loss: 0.2778 - accuracy: 0.8970\n",
      "Epoch 9/10\n",
      "1875/1875 [==============================] - 2s 1ms/step - loss: 0.2698 - accuracy: 0.9001\n",
      "Epoch 10/10\n",
      "1875/1875 [==============================] - 2s 921us/step - loss: 0.2585 - accuracy: 0.9046\n",
      "313/313 - 0s - loss: 0.3506 - accuracy: 0.8757 - 248ms/epoch - 794us/step\n",
      "\n",
      "Test accuracy: 0.8756999969482422\n",
      "\n",
      "Test loss: 0.3506307303905487\n",
      "************************************************************\n",
      "\n",
      "Epoch 1/10\n",
      "1875/1875 [==============================] - 2s 908us/step - loss: 0.5210 - accuracy: 0.8189\n",
      "Epoch 2/10\n",
      "1875/1875 [==============================] - 2s 819us/step - loss: 0.3931 - accuracy: 0.8607\n",
      "Epoch 3/10\n",
      "1875/1875 [==============================] - 2s 951us/step - loss: 0.3553 - accuracy: 0.8716\n",
      "Epoch 4/10\n",
      "1875/1875 [==============================] - 2s 839us/step - loss: 0.3325 - accuracy: 0.8798\n",
      "Epoch 5/10\n",
      "1875/1875 [==============================] - 2s 825us/step - loss: 0.3154 - accuracy: 0.8855\n",
      "Epoch 6/10\n",
      "1875/1875 [==============================] - 2s 836us/step - loss: 0.3023 - accuracy: 0.8901\n",
      "Epoch 7/10\n",
      "1875/1875 [==============================] - 2s 854us/step - loss: 0.2907 - accuracy: 0.8946\n",
      "Epoch 8/10\n",
      "1875/1875 [==============================] - 2s 938us/step - loss: 0.2797 - accuracy: 0.8974\n",
      "Epoch 9/10\n",
      "1875/1875 [==============================] - 2s 832us/step - loss: 0.2689 - accuracy: 0.9005\n",
      "Epoch 10/10\n",
      "1875/1875 [==============================] - 2s 874us/step - loss: 0.2632 - accuracy: 0.9030\n",
      "313/313 - 0s - loss: 0.3556 - accuracy: 0.8750 - 221ms/epoch - 706us/step\n",
      "\n",
      "Test accuracy: 0.875\n",
      "\n",
      "Test loss: 0.3555735945701599\n",
      "************************************************************\n",
      "\n",
      "Epoch 1/10\n",
      "1875/1875 [==============================] - 2s 982us/step - loss: 0.5254 - accuracy: 0.8186\n",
      "Epoch 2/10\n",
      "1875/1875 [==============================] - 2s 973us/step - loss: 0.3932 - accuracy: 0.8590\n",
      "Epoch 3/10\n",
      "1875/1875 [==============================] - 2s 847us/step - loss: 0.3558 - accuracy: 0.8705\n",
      "Epoch 4/10\n",
      "1875/1875 [==============================] - 2s 1ms/step - loss: 0.3317 - accuracy: 0.8802\n",
      "Epoch 5/10\n",
      "1875/1875 [==============================] - 2s 948us/step - loss: 0.3135 - accuracy: 0.8844\n",
      "Epoch 6/10\n",
      "1875/1875 [==============================] - 2s 956us/step - loss: 0.3011 - accuracy: 0.8898\n",
      "Epoch 7/10\n",
      "1875/1875 [==============================] - 2s 862us/step - loss: 0.2875 - accuracy: 0.8927\n",
      "Epoch 8/10\n",
      "1875/1875 [==============================] - 2s 835us/step - loss: 0.2789 - accuracy: 0.8961\n",
      "Epoch 9/10\n",
      "1875/1875 [==============================] - 2s 894us/step - loss: 0.2689 - accuracy: 0.9013\n",
      "Epoch 10/10\n",
      "1875/1875 [==============================] - 2s 837us/step - loss: 0.2615 - accuracy: 0.9025\n",
      "313/313 - 0s - loss: 0.3327 - accuracy: 0.8800 - 199ms/epoch - 637us/step\n",
      "\n",
      "Test accuracy: 0.8799999952316284\n",
      "\n",
      "Test loss: 0.3326767385005951\n",
      "************************************************************\n",
      "\n",
      "Epoch 1/10\n",
      "1875/1875 [==============================] - 2s 901us/step - loss: 0.5170 - accuracy: 0.8201\n",
      "Epoch 2/10\n",
      "1875/1875 [==============================] - 2s 933us/step - loss: 0.3919 - accuracy: 0.8597\n",
      "Epoch 3/10\n",
      "1875/1875 [==============================] - 2s 1ms/step - loss: 0.3532 - accuracy: 0.8738\n",
      "Epoch 4/10\n",
      "1875/1875 [==============================] - 2s 1ms/step - loss: 0.3300 - accuracy: 0.8802\n",
      "Epoch 5/10\n",
      "1875/1875 [==============================] - 2s 1ms/step - loss: 0.3112 - accuracy: 0.8869\n",
      "Epoch 6/10\n",
      "1875/1875 [==============================] - 2s 899us/step - loss: 0.2982 - accuracy: 0.8904\n",
      "Epoch 7/10\n",
      "1875/1875 [==============================] - 2s 876us/step - loss: 0.2864 - accuracy: 0.8935\n",
      "Epoch 8/10\n",
      "1875/1875 [==============================] - 2s 856us/step - loss: 0.2757 - accuracy: 0.8981\n",
      "Epoch 9/10\n",
      "1875/1875 [==============================] - 2s 855us/step - loss: 0.2665 - accuracy: 0.9019\n",
      "Epoch 10/10\n",
      "1875/1875 [==============================] - 2s 881us/step - loss: 0.2595 - accuracy: 0.9046\n",
      "313/313 - 0s - loss: 0.3636 - accuracy: 0.8705 - 238ms/epoch - 760us/step\n",
      "\n",
      "Test accuracy: 0.8705000281333923\n",
      "\n",
      "Test loss: 0.3635929822921753\n",
      "************************************************************\n",
      "\n"
     ]
    }
   ],
   "source": [
    "for n in [ 64,128, 256,320]: \n",
    "    model = tf.keras.Sequential([\n",
    "        tf.keras.layers.Flatten(input_shape=(28, 28)), ## Cannot Modify this\n",
    "        tf.keras.layers.Dense(64, activation='relu'),\n",
    "        tf.keras.layers.Dense(10)  ## Cannot Modify this\n",
    "    ])\n",
    "    model.compile(optimizer='adam',\n",
    "                  loss=tf.keras.losses.SparseCategoricalCrossentropy(from_logits=True), ## Cannot modify this\n",
    "                  metrics=['accuracy'])\n",
    "    model.fit(train_images, train_labels, epochs=10)\n",
    "    test_loss, test_acc = model.evaluate(test_images,  test_labels, verbose=2)\n",
    "\n",
    "    print('\\nTest accuracy:', test_acc)\n",
    "    print('\\nTest loss:', test_loss)\n",
    "    print(60*\"*\")\n",
    "    print()\n"
   ]
  },
  {
   "cell_type": "markdown",
   "metadata": {},
   "source": [
    "## Experiment 2-\tActivation function for hidden layers\n",
    "I have experimented with different activation functions and compared the results from various perspectives, including classification accuracy, loss value, and time. I have tried 'relu', 'sigmoid', 'tanh', and 'hard sigmoid'. The results show that changing the activation function to Sigmoid, tanh lowers the time and increases test and train accuracy but changing the activation function to hard_sigmoid does not affect the model."
   ]
  },
  {
   "cell_type": "code",
   "execution_count": 33,
   "metadata": {
    "scrolled": false
   },
   "outputs": [
    {
     "name": "stdout",
     "output_type": "stream",
     "text": [
      "active_function =  relu\n",
      "Epoch 1/10\n",
      "1875/1875 [==============================] - 2s 821us/step - loss: 0.5156 - accuracy: 0.8188\n",
      "Epoch 2/10\n",
      "1875/1875 [==============================] - 2s 843us/step - loss: 0.3904 - accuracy: 0.8609\n",
      "Epoch 3/10\n",
      "1875/1875 [==============================] - 2s 851us/step - loss: 0.3553 - accuracy: 0.8719\n",
      "Epoch 4/10\n",
      "1875/1875 [==============================] - 2s 881us/step - loss: 0.3307 - accuracy: 0.8789\n",
      "Epoch 5/10\n",
      "1875/1875 [==============================] - 2s 849us/step - loss: 0.3127 - accuracy: 0.8857\n",
      "Epoch 6/10\n",
      "1875/1875 [==============================] - 2s 878us/step - loss: 0.2987 - accuracy: 0.8912\n",
      "Epoch 7/10\n",
      "1875/1875 [==============================] - 2s 859us/step - loss: 0.2850 - accuracy: 0.8954\n",
      "Epoch 8/10\n",
      "1875/1875 [==============================] - 2s 916us/step - loss: 0.2791 - accuracy: 0.8976\n",
      "Epoch 9/10\n",
      "1875/1875 [==============================] - 2s 842us/step - loss: 0.2692 - accuracy: 0.8997\n",
      "Epoch 10/10\n",
      "1875/1875 [==============================] - 2s 838us/step - loss: 0.2598 - accuracy: 0.9028\n",
      "313/313 - 0s - loss: 0.3731 - accuracy: 0.8660 - 206ms/epoch - 659us/step\n",
      "\n",
      "Test accuracy: 0.8659999966621399\n",
      "\n",
      "Test loss: 0.37314125895500183\n",
      "************************************************************\n",
      "\n",
      "active_function =  sigmoid\n",
      "Epoch 1/10\n",
      "1875/1875 [==============================] - 2s 838us/step - loss: 0.5837 - accuracy: 0.8080\n",
      "Epoch 2/10\n",
      "1875/1875 [==============================] - 2s 841us/step - loss: 0.4026 - accuracy: 0.8565\n",
      "Epoch 3/10\n",
      "1875/1875 [==============================] - 2s 882us/step - loss: 0.3643 - accuracy: 0.8690\n",
      "Epoch 4/10\n",
      "1875/1875 [==============================] - 2s 858us/step - loss: 0.3428 - accuracy: 0.8763\n",
      "Epoch 5/10\n",
      "1875/1875 [==============================] - 2s 863us/step - loss: 0.3257 - accuracy: 0.8818\n",
      "Epoch 6/10\n",
      "1875/1875 [==============================] - 2s 839us/step - loss: 0.3120 - accuracy: 0.8857\n",
      "Epoch 7/10\n",
      "1875/1875 [==============================] - 2s 846us/step - loss: 0.3001 - accuracy: 0.8909\n",
      "Epoch 8/10\n",
      "1875/1875 [==============================] - 2s 826us/step - loss: 0.2904 - accuracy: 0.8939\n",
      "Epoch 9/10\n",
      "1875/1875 [==============================] - 2s 900us/step - loss: 0.2819 - accuracy: 0.8964\n",
      "Epoch 10/10\n",
      "1875/1875 [==============================] - 2s 838us/step - loss: 0.2748 - accuracy: 0.8996\n",
      "313/313 - 0s - loss: 0.3439 - accuracy: 0.8757 - 205ms/epoch - 654us/step\n",
      "\n",
      "Test accuracy: 0.8756999969482422\n",
      "\n",
      "Test loss: 0.34386613965034485\n",
      "************************************************************\n",
      "\n",
      "active_function =  hard_sigmoid\n",
      "Epoch 1/10\n",
      "1875/1875 [==============================] - 2s 993us/step - loss: 0.5835 - accuracy: 0.8065\n",
      "Epoch 2/10\n",
      "1875/1875 [==============================] - 2s 994us/step - loss: 0.4050 - accuracy: 0.8553\n",
      "Epoch 3/10\n",
      "1875/1875 [==============================] - 2s 967us/step - loss: 0.3677 - accuracy: 0.8679\n",
      "Epoch 4/10\n",
      "1875/1875 [==============================] - 2s 1ms/step - loss: 0.3454 - accuracy: 0.8755\n",
      "Epoch 5/10\n",
      "1875/1875 [==============================] - 2s 934us/step - loss: 0.3282 - accuracy: 0.8817\n",
      "Epoch 6/10\n",
      "1875/1875 [==============================] - 1s 788us/step - loss: 0.3145 - accuracy: 0.8848\n",
      "Epoch 7/10\n",
      "1875/1875 [==============================] - 2s 839us/step - loss: 0.3027 - accuracy: 0.8895\n",
      "Epoch 8/10\n",
      "1875/1875 [==============================] - 2s 864us/step - loss: 0.2932 - accuracy: 0.8931\n",
      "Epoch 9/10\n",
      "1875/1875 [==============================] - 2s 817us/step - loss: 0.2836 - accuracy: 0.8961\n",
      "Epoch 10/10\n",
      "1875/1875 [==============================] - 2s 818us/step - loss: 0.2749 - accuracy: 0.8989\n",
      "313/313 - 0s - loss: 0.3386 - accuracy: 0.8770 - 203ms/epoch - 649us/step\n",
      "\n",
      "Test accuracy: 0.8769999742507935\n",
      "\n",
      "Test loss: 0.3386457860469818\n",
      "************************************************************\n",
      "\n",
      "active_function =  tanh\n",
      "Epoch 1/10\n",
      "1875/1875 [==============================] - 2s 832us/step - loss: 0.4966 - accuracy: 0.8249\n",
      "Epoch 2/10\n",
      "1875/1875 [==============================] - 2s 824us/step - loss: 0.3799 - accuracy: 0.8625\n",
      "Epoch 3/10\n",
      "1875/1875 [==============================] - 2s 859us/step - loss: 0.3451 - accuracy: 0.8749\n",
      "Epoch 4/10\n",
      "1875/1875 [==============================] - 1s 794us/step - loss: 0.3229 - accuracy: 0.8814\n",
      "Epoch 5/10\n",
      "1875/1875 [==============================] - 1s 782us/step - loss: 0.3071 - accuracy: 0.8876\n",
      "Epoch 6/10\n",
      "1875/1875 [==============================] - 1s 800us/step - loss: 0.2952 - accuracy: 0.8919\n",
      "Epoch 7/10\n",
      "1875/1875 [==============================] - 2s 857us/step - loss: 0.2835 - accuracy: 0.8961\n",
      "Epoch 8/10\n",
      "1875/1875 [==============================] - 2s 819us/step - loss: 0.2740 - accuracy: 0.8986\n",
      "Epoch 9/10\n",
      "1875/1875 [==============================] - 2s 810us/step - loss: 0.2653 - accuracy: 0.9019\n",
      "Epoch 10/10\n",
      "1875/1875 [==============================] - 1s 778us/step - loss: 0.2572 - accuracy: 0.9051\n",
      "313/313 - 0s - loss: 0.3423 - accuracy: 0.8787 - 214ms/epoch - 684us/step\n",
      "\n",
      "Test accuracy: 0.8787000179290771\n",
      "\n",
      "Test loss: 0.3423302471637726\n",
      "************************************************************\n",
      "\n"
     ]
    }
   ],
   "source": [
    "for active_function in [ 'relu', 'sigmoid','hard_sigmoid', 'tanh']: \n",
    "    print('active_function = ', active_function)\n",
    "    model = tf.keras.Sequential([\n",
    "        tf.keras.layers.Flatten(input_shape=(28, 28)), ## Cannot Modify this\n",
    "        tf.keras.layers.Dense(64, activation=active_function),\n",
    "        tf.keras.layers.Dense(10)  ## Cannot Modify this\n",
    "    ])\n",
    "    model.compile(optimizer='adam',\n",
    "                  loss=tf.keras.losses.SparseCategoricalCrossentropy(from_logits=True), ## Cannot modify this\n",
    "                  metrics=['accuracy'])\n",
    "    model.fit(train_images, train_labels, epochs=10)\n",
    "    test_loss, test_acc = model.evaluate(test_images,  test_labels, verbose=2)\n",
    "\n",
    "    print('\\nTest accuracy:', test_acc)\n",
    "    print('\\nTest loss:', test_loss)\n",
    "    print(60*\"*\")\n",
    "    print()\n"
   ]
  },
  {
   "cell_type": "markdown",
   "metadata": {},
   "source": [
    "## 3-Regularization methods \n",
    "I have experimented with different regularization methods and compared the results from various perspectives, including classification accuracy, loss value, and time. I have tried 'sgd', 'RMSprop', 'Adagrad', and 'Adamax'. The results show that changing the learning rate to Adamax did not seem to have an advantage over Adam (the original), and in general, RMSprop performed the best in everything except for the time."
   ]
  },
  {
   "cell_type": "code",
   "execution_count": 34,
   "metadata": {
    "scrolled": false
   },
   "outputs": [
    {
     "name": "stdout",
     "output_type": "stream",
     "text": [
      "optimizer =  adam\n",
      "Epoch 1/10\n",
      "1875/1875 [==============================] - 2s 878us/step - loss: 0.4969 - accuracy: 0.8242\n",
      "Epoch 2/10\n",
      "1875/1875 [==============================] - 2s 860us/step - loss: 0.3796 - accuracy: 0.8617\n",
      "Epoch 3/10\n",
      "1875/1875 [==============================] - 2s 1ms/step - loss: 0.3464 - accuracy: 0.8735\n",
      "Epoch 4/10\n",
      "1875/1875 [==============================] - 2s 870us/step - loss: 0.3229 - accuracy: 0.8819\n",
      "Epoch 5/10\n",
      "1875/1875 [==============================] - 2s 910us/step - loss: 0.3087 - accuracy: 0.8870\n",
      "Epoch 6/10\n",
      "1875/1875 [==============================] - 2s 826us/step - loss: 0.2957 - accuracy: 0.8907\n",
      "Epoch 7/10\n",
      "1875/1875 [==============================] - 1s 798us/step - loss: 0.2834 - accuracy: 0.8952\n",
      "Epoch 8/10\n",
      "1875/1875 [==============================] - 1s 770us/step - loss: 0.2743 - accuracy: 0.8974\n",
      "Epoch 9/10\n",
      "1875/1875 [==============================] - 1s 756us/step - loss: 0.2654 - accuracy: 0.9009\n",
      "Epoch 10/10\n",
      "1875/1875 [==============================] - 1s 790us/step - loss: 0.2609 - accuracy: 0.9033\n",
      "313/313 - 0s - loss: 0.3477 - accuracy: 0.8754 - 209ms/epoch - 667us/step\n",
      "\n",
      "Test accuracy: 0.8754000067710876\n",
      "\n",
      "Test loss: 0.3476800322532654\n",
      "************************************************************\n",
      "\n",
      "optimizer =  sgd\n",
      "Epoch 1/10\n",
      "1875/1875 [==============================] - 2s 726us/step - loss: 0.7436 - accuracy: 0.7642\n",
      "Epoch 2/10\n",
      "1875/1875 [==============================] - 1s 714us/step - loss: 0.5138 - accuracy: 0.8246\n",
      "Epoch 3/10\n",
      "1875/1875 [==============================] - 1s 748us/step - loss: 0.4666 - accuracy: 0.8376\n",
      "Epoch 4/10\n",
      "1875/1875 [==============================] - 1s 650us/step - loss: 0.4409 - accuracy: 0.8455\n",
      "Epoch 5/10\n",
      "1875/1875 [==============================] - 1s 649us/step - loss: 0.4233 - accuracy: 0.8510\n",
      "Epoch 6/10\n",
      "1875/1875 [==============================] - 1s 666us/step - loss: 0.4102 - accuracy: 0.8554\n",
      "Epoch 7/10\n",
      "1875/1875 [==============================] - 1s 673us/step - loss: 0.3993 - accuracy: 0.8594\n",
      "Epoch 8/10\n",
      "1875/1875 [==============================] - 1s 674us/step - loss: 0.3906 - accuracy: 0.8614\n",
      "Epoch 9/10\n",
      "1875/1875 [==============================] - 1s 646us/step - loss: 0.3832 - accuracy: 0.8650\n",
      "Epoch 10/10\n",
      "1875/1875 [==============================] - 1s 641us/step - loss: 0.3767 - accuracy: 0.8659\n",
      "313/313 - 0s - loss: 0.4104 - accuracy: 0.8529 - 195ms/epoch - 622us/step\n",
      "\n",
      "Test accuracy: 0.8529000282287598\n",
      "\n",
      "Test loss: 0.4103548228740692\n",
      "************************************************************\n",
      "\n",
      "optimizer =  RMSprop\n",
      "Epoch 1/10\n",
      "1875/1875 [==============================] - 2s 792us/step - loss: 0.4986 - accuracy: 0.8234\n",
      "Epoch 2/10\n",
      "1875/1875 [==============================] - 2s 801us/step - loss: 0.3841 - accuracy: 0.8602\n",
      "Epoch 3/10\n",
      "1875/1875 [==============================] - 2s 889us/step - loss: 0.3527 - accuracy: 0.8716\n",
      "Epoch 4/10\n",
      "1875/1875 [==============================] - 2s 975us/step - loss: 0.3335 - accuracy: 0.8787\n",
      "Epoch 5/10\n",
      "1875/1875 [==============================] - 2s 912us/step - loss: 0.3187 - accuracy: 0.8842\n",
      "Epoch 6/10\n",
      "1875/1875 [==============================] - 2s 874us/step - loss: 0.3061 - accuracy: 0.8888\n",
      "Epoch 7/10\n",
      "1875/1875 [==============================] - 2s 801us/step - loss: 0.2971 - accuracy: 0.8924\n",
      "Epoch 8/10\n",
      "1875/1875 [==============================] - 2s 817us/step - loss: 0.2877 - accuracy: 0.8959\n",
      "Epoch 9/10\n",
      "1875/1875 [==============================] - 2s 941us/step - loss: 0.2812 - accuracy: 0.8972\n",
      "Epoch 10/10\n",
      "1875/1875 [==============================] - 2s 855us/step - loss: 0.2740 - accuracy: 0.9009\n",
      "313/313 - 0s - loss: 0.3554 - accuracy: 0.8774 - 240ms/epoch - 765us/step\n",
      "\n",
      "Test accuracy: 0.8773999810218811\n",
      "\n",
      "Test loss: 0.3554324507713318\n",
      "************************************************************\n",
      "\n",
      "optimizer =  Adagrad\n",
      "Epoch 1/10\n",
      "1875/1875 [==============================] - 2s 987us/step - loss: 1.0877 - accuracy: 0.6854\n",
      "Epoch 2/10\n",
      "1875/1875 [==============================] - 2s 894us/step - loss: 0.7542 - accuracy: 0.7625\n",
      "Epoch 3/10\n",
      "1875/1875 [==============================] - 1s 773us/step - loss: 0.6788 - accuracy: 0.7835\n",
      "Epoch 4/10\n",
      "1875/1875 [==============================] - 1s 777us/step - loss: 0.6367 - accuracy: 0.7959\n",
      "Epoch 5/10\n",
      "1875/1875 [==============================] - 2s 807us/step - loss: 0.6084 - accuracy: 0.8030\n",
      "Epoch 6/10\n",
      "1875/1875 [==============================] - 1s 752us/step - loss: 0.5873 - accuracy: 0.8075\n",
      "Epoch 7/10\n",
      "1875/1875 [==============================] - 1s 722us/step - loss: 0.5709 - accuracy: 0.8123\n",
      "Epoch 8/10\n",
      "1875/1875 [==============================] - 1s 726us/step - loss: 0.5576 - accuracy: 0.8158\n",
      "Epoch 9/10\n",
      "1875/1875 [==============================] - 1s 711us/step - loss: 0.5467 - accuracy: 0.8195\n",
      "Epoch 10/10\n",
      "1875/1875 [==============================] - 1s 727us/step - loss: 0.5373 - accuracy: 0.8225\n",
      "313/313 - 0s - loss: 0.5554 - accuracy: 0.8129 - 232ms/epoch - 740us/step\n",
      "\n",
      "Test accuracy: 0.8129000067710876\n",
      "\n",
      "Test loss: 0.5554003715515137\n",
      "************************************************************\n",
      "\n",
      "optimizer =  Adamax\n",
      "Epoch 1/10\n",
      "1875/1875 [==============================] - 2s 906us/step - loss: 0.5716 - accuracy: 0.8041\n",
      "Epoch 2/10\n",
      "1875/1875 [==============================] - 2s 1ms/step - loss: 0.4198 - accuracy: 0.8512\n",
      "Epoch 3/10\n",
      "1875/1875 [==============================] - 2s 1ms/step - loss: 0.3854 - accuracy: 0.8627\n",
      "Epoch 4/10\n",
      "1875/1875 [==============================] - 2s 1ms/step - loss: 0.3657 - accuracy: 0.8691\n",
      "Epoch 5/10\n",
      "1875/1875 [==============================] - 2s 1ms/step - loss: 0.3498 - accuracy: 0.8753\n",
      "Epoch 6/10\n",
      "1875/1875 [==============================] - 2s 980us/step - loss: 0.3386 - accuracy: 0.8782\n",
      "Epoch 7/10\n",
      "1875/1875 [==============================] - 2s 1ms/step - loss: 0.3280 - accuracy: 0.8830\n",
      "Epoch 8/10\n",
      "1875/1875 [==============================] - 2s 937us/step - loss: 0.3193 - accuracy: 0.8846\n",
      "Epoch 9/10\n",
      "1875/1875 [==============================] - 2s 976us/step - loss: 0.3119 - accuracy: 0.8871\n",
      "Epoch 10/10\n",
      "1875/1875 [==============================] - 2s 920us/step - loss: 0.3050 - accuracy: 0.8899\n",
      "313/313 - 0s - loss: 0.3590 - accuracy: 0.8736 - 220ms/epoch - 703us/step\n",
      "\n",
      "Test accuracy: 0.8736000061035156\n",
      "\n",
      "Test loss: 0.35900670289993286\n",
      "************************************************************\n",
      "\n"
     ]
    }
   ],
   "source": [
    "for optimizer in [ 'adam', 'sgd', 'RMSprop', 'Adagrad', 'Adamax']: \n",
    "    print('optimizer = ', optimizer)\n",
    "    model = tf.keras.Sequential([\n",
    "        tf.keras.layers.Flatten(input_shape=(28, 28)), ## Cannot Modify this\n",
    "        tf.keras.layers.Dense(64, activation=active_function),\n",
    "        tf.keras.layers.Dense(10)  ## Cannot Modify this\n",
    "    ])\n",
    "    model.compile(optimizer=optimizer,\n",
    "                  loss=tf.keras.losses.SparseCategoricalCrossentropy(from_logits=True), ## Cannot modify this\n",
    "                  metrics=['accuracy'])\n",
    "    model.fit(train_images, train_labels, epochs=10)\n",
    "    test_loss, test_acc = model.evaluate(test_images,  test_labels, verbose=2)\n",
    "\n",
    "    print('\\nTest accuracy:', test_acc)\n",
    "    print('\\nTest loss:', test_loss)\n",
    "    print(60*\"*\")\n",
    "    print()"
   ]
  }
 ],
 "metadata": {
  "colab": {
   "collapsed_sections": [],
   "name": "classification.ipynb",
   "toc_visible": true
  },
  "kernelspec": {
   "display_name": "Python 3",
   "language": "python",
   "name": "python3"
  },
  "language_info": {
   "codemirror_mode": {
    "name": "ipython",
    "version": 3
   },
   "file_extension": ".py",
   "mimetype": "text/x-python",
   "name": "python",
   "nbconvert_exporter": "python",
   "pygments_lexer": "ipython3",
   "version": "3.8.5"
  }
 },
 "nbformat": 4,
 "nbformat_minor": 1
}
